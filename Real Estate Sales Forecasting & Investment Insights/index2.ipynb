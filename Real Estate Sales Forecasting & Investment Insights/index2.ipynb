{
 "cells": [
  {
   "cell_type": "markdown",
   "metadata": {},
   "source": [
    "# ZILLOW HOUSING DATA TIME SERIES ANALYSIS\n",
    "# Business Understanding\n",
    "\n",
    "Real investment firms weigh on many factors when deciding on which investment to make. These firms’ goals are to enhance their decision making processes. With historical real estate market data, the challenge is to leverage data science techniques to identify potential investment opportunities and helping the real estate firms in making informed investment decisions.\n",
    "\n",
    "\n",
    "## Problem Statement\n",
    "\n",
    "A Real Estate Investment Firm wants to know the top 5 best zip codes to invest in. As a Data Science consulting group, we have been tasked with finding out.\n",
    "The task at hand is to create a model that will inform us on the Real Estate investment market trends for the next 10 years.\n",
    "\n",
    "## Objectives\n",
    "Main objectives:\n",
    "\n",
    "* To optimize Investment Performance through Holistic Data-Driven Strategies\n",
    "\n",
    "Secondary objectives:\n",
    "\n",
    "* To select the 5 best zipcodes that offer best investment opportunities.\n",
    "* To predict the value range for the top 5 zipcodes."
   ]
  },
  {
   "cell_type": "code",
   "execution_count": 169,
   "metadata": {},
   "outputs": [],
   "source": [
    "\n",
    "#  uncomment to install\n",
    "\n",
    "# !pip install prophet\n",
    "\n"
   ]
  },
  {
   "cell_type": "code",
   "execution_count": 170,
   "metadata": {},
   "outputs": [],
   "source": [
    "## Importing the necessary Libraries\n",
    "import pandas as pd\n",
    "import matplotlib.pyplot as plt\n",
    "import numpy as np\n",
    "import seaborn as sns\n",
    "from scipy.stats import boxcox\n",
    "from statsmodels.graphics.tsaplots import plot_pacf\n",
    "from statsmodels.graphics.tsaplots import plot_acf\n",
    "from matplotlib.pylab import rcParams\n",
    "from statsmodels.tsa.arima.model import ARIMA\n",
    "from sklearn.metrics import mean_squared_error, mean_absolute_error\n",
    "from math import sqrt\n",
    "from sklearn.model_selection import TimeSeriesSplit\n",
    "from statsmodels.tsa.stattools import adfuller\n",
    "from statsmodels.tsa.holtwinters import ExponentialSmoothing\n",
    "from statsmodels.tsa.stattools import adfuller\n",
    "from prophet import Prophet\n",
    "from statsmodels.tsa.statespace.sarimax import SARIMAX\n",
    "from sklearn.model_selection import train_test_split\n",
    "\n",
    "\n",
    "\n",
    "import warnings\n",
    "\n",
    "# Ignore all warnings\n",
    "warnings.filterwarnings(\"ignore\")\n"
   ]
  },
  {
   "cell_type": "code",
   "execution_count": 171,
   "metadata": {},
   "outputs": [
    {
     "name": "stdout",
     "output_type": "stream",
     "text": [
      "Statsmodels version: 0.14.0\n"
     ]
    }
   ],
   "source": [
    "\n",
    "\n",
    "import statsmodels\n",
    "\n",
    "print(\"Statsmodels version:\", statsmodels.__version__)\n"
   ]
  },
  {
   "cell_type": "markdown",
   "metadata": {},
   "source": [
    "## DATA UNDERSTANDING"
   ]
  },
  {
   "cell_type": "markdown",
   "metadata": {},
   "source": [
    "#### Load the dataset"
   ]
  },
  {
   "cell_type": "markdown",
   "metadata": {},
   "source": [
    "This project uses data from ZIllow housing data,  found [here](https://www.zillow.com/research/data/)"
   ]
  },
  {
   "cell_type": "code",
   "execution_count": 172,
   "metadata": {},
   "outputs": [
    {
     "data": {
      "text/html": [
       "<div>\n",
       "<style scoped>\n",
       "    .dataframe tbody tr th:only-of-type {\n",
       "        vertical-align: middle;\n",
       "    }\n",
       "\n",
       "    .dataframe tbody tr th {\n",
       "        vertical-align: top;\n",
       "    }\n",
       "\n",
       "    .dataframe thead th {\n",
       "        text-align: right;\n",
       "    }\n",
       "</style>\n",
       "<table border=\"1\" class=\"dataframe\">\n",
       "  <thead>\n",
       "    <tr style=\"text-align: right;\">\n",
       "      <th></th>\n",
       "      <th>RegionID</th>\n",
       "      <th>RegionName</th>\n",
       "      <th>City</th>\n",
       "      <th>State</th>\n",
       "      <th>Metro</th>\n",
       "      <th>CountyName</th>\n",
       "      <th>SizeRank</th>\n",
       "      <th>1996-04</th>\n",
       "      <th>1996-05</th>\n",
       "      <th>1996-06</th>\n",
       "      <th>...</th>\n",
       "      <th>2017-07</th>\n",
       "      <th>2017-08</th>\n",
       "      <th>2017-09</th>\n",
       "      <th>2017-10</th>\n",
       "      <th>2017-11</th>\n",
       "      <th>2017-12</th>\n",
       "      <th>2018-01</th>\n",
       "      <th>2018-02</th>\n",
       "      <th>2018-03</th>\n",
       "      <th>2018-04</th>\n",
       "    </tr>\n",
       "  </thead>\n",
       "  <tbody>\n",
       "    <tr>\n",
       "      <th>0</th>\n",
       "      <td>84654</td>\n",
       "      <td>60657</td>\n",
       "      <td>Chicago</td>\n",
       "      <td>IL</td>\n",
       "      <td>Chicago</td>\n",
       "      <td>Cook</td>\n",
       "      <td>1</td>\n",
       "      <td>334200.0</td>\n",
       "      <td>335400.0</td>\n",
       "      <td>336500.0</td>\n",
       "      <td>...</td>\n",
       "      <td>1005500</td>\n",
       "      <td>1007500</td>\n",
       "      <td>1007800</td>\n",
       "      <td>1009600</td>\n",
       "      <td>1013300</td>\n",
       "      <td>1018700</td>\n",
       "      <td>1024400</td>\n",
       "      <td>1030700</td>\n",
       "      <td>1033800</td>\n",
       "      <td>1030600</td>\n",
       "    </tr>\n",
       "    <tr>\n",
       "      <th>1</th>\n",
       "      <td>90668</td>\n",
       "      <td>75070</td>\n",
       "      <td>McKinney</td>\n",
       "      <td>TX</td>\n",
       "      <td>Dallas-Fort Worth</td>\n",
       "      <td>Collin</td>\n",
       "      <td>2</td>\n",
       "      <td>235700.0</td>\n",
       "      <td>236900.0</td>\n",
       "      <td>236700.0</td>\n",
       "      <td>...</td>\n",
       "      <td>308000</td>\n",
       "      <td>310000</td>\n",
       "      <td>312500</td>\n",
       "      <td>314100</td>\n",
       "      <td>315000</td>\n",
       "      <td>316600</td>\n",
       "      <td>318100</td>\n",
       "      <td>319600</td>\n",
       "      <td>321100</td>\n",
       "      <td>321800</td>\n",
       "    </tr>\n",
       "    <tr>\n",
       "      <th>2</th>\n",
       "      <td>91982</td>\n",
       "      <td>77494</td>\n",
       "      <td>Katy</td>\n",
       "      <td>TX</td>\n",
       "      <td>Houston</td>\n",
       "      <td>Harris</td>\n",
       "      <td>3</td>\n",
       "      <td>210400.0</td>\n",
       "      <td>212200.0</td>\n",
       "      <td>212200.0</td>\n",
       "      <td>...</td>\n",
       "      <td>321000</td>\n",
       "      <td>320600</td>\n",
       "      <td>320200</td>\n",
       "      <td>320400</td>\n",
       "      <td>320800</td>\n",
       "      <td>321200</td>\n",
       "      <td>321200</td>\n",
       "      <td>323000</td>\n",
       "      <td>326900</td>\n",
       "      <td>329900</td>\n",
       "    </tr>\n",
       "    <tr>\n",
       "      <th>3</th>\n",
       "      <td>84616</td>\n",
       "      <td>60614</td>\n",
       "      <td>Chicago</td>\n",
       "      <td>IL</td>\n",
       "      <td>Chicago</td>\n",
       "      <td>Cook</td>\n",
       "      <td>4</td>\n",
       "      <td>498100.0</td>\n",
       "      <td>500900.0</td>\n",
       "      <td>503100.0</td>\n",
       "      <td>...</td>\n",
       "      <td>1289800</td>\n",
       "      <td>1287700</td>\n",
       "      <td>1287400</td>\n",
       "      <td>1291500</td>\n",
       "      <td>1296600</td>\n",
       "      <td>1299000</td>\n",
       "      <td>1302700</td>\n",
       "      <td>1306400</td>\n",
       "      <td>1308500</td>\n",
       "      <td>1307000</td>\n",
       "    </tr>\n",
       "    <tr>\n",
       "      <th>4</th>\n",
       "      <td>93144</td>\n",
       "      <td>79936</td>\n",
       "      <td>El Paso</td>\n",
       "      <td>TX</td>\n",
       "      <td>El Paso</td>\n",
       "      <td>El Paso</td>\n",
       "      <td>5</td>\n",
       "      <td>77300.0</td>\n",
       "      <td>77300.0</td>\n",
       "      <td>77300.0</td>\n",
       "      <td>...</td>\n",
       "      <td>119100</td>\n",
       "      <td>119400</td>\n",
       "      <td>120000</td>\n",
       "      <td>120300</td>\n",
       "      <td>120300</td>\n",
       "      <td>120300</td>\n",
       "      <td>120300</td>\n",
       "      <td>120500</td>\n",
       "      <td>121000</td>\n",
       "      <td>121500</td>\n",
       "    </tr>\n",
       "  </tbody>\n",
       "</table>\n",
       "<p>5 rows × 272 columns</p>\n",
       "</div>"
      ],
      "text/plain": [
       "   RegionID  RegionName      City State              Metro CountyName  \\\n",
       "0     84654       60657   Chicago    IL            Chicago       Cook   \n",
       "1     90668       75070  McKinney    TX  Dallas-Fort Worth     Collin   \n",
       "2     91982       77494      Katy    TX            Houston     Harris   \n",
       "3     84616       60614   Chicago    IL            Chicago       Cook   \n",
       "4     93144       79936   El Paso    TX            El Paso    El Paso   \n",
       "\n",
       "   SizeRank   1996-04   1996-05   1996-06  ...  2017-07  2017-08  2017-09  \\\n",
       "0         1  334200.0  335400.0  336500.0  ...  1005500  1007500  1007800   \n",
       "1         2  235700.0  236900.0  236700.0  ...   308000   310000   312500   \n",
       "2         3  210400.0  212200.0  212200.0  ...   321000   320600   320200   \n",
       "3         4  498100.0  500900.0  503100.0  ...  1289800  1287700  1287400   \n",
       "4         5   77300.0   77300.0   77300.0  ...   119100   119400   120000   \n",
       "\n",
       "   2017-10  2017-11  2017-12  2018-01  2018-02  2018-03  2018-04  \n",
       "0  1009600  1013300  1018700  1024400  1030700  1033800  1030600  \n",
       "1   314100   315000   316600   318100   319600   321100   321800  \n",
       "2   320400   320800   321200   321200   323000   326900   329900  \n",
       "3  1291500  1296600  1299000  1302700  1306400  1308500  1307000  \n",
       "4   120300   120300   120300   120300   120500   121000   121500  \n",
       "\n",
       "[5 rows x 272 columns]"
      ]
     },
     "execution_count": 172,
     "metadata": {},
     "output_type": "execute_result"
    }
   ],
   "source": [
    "data = pd.read_csv(\"data/zillow_data.csv\")\n",
    "data.head()"
   ]
  },
  {
   "cell_type": "code",
   "execution_count": 173,
   "metadata": {},
   "outputs": [
    {
     "data": {
      "text/plain": [
       "14723"
      ]
     },
     "execution_count": 173,
     "metadata": {},
     "output_type": "execute_result"
    }
   ],
   "source": [
    "len(data[\"RegionName\"].unique())"
   ]
  },
  {
   "cell_type": "code",
   "execution_count": 174,
   "metadata": {},
   "outputs": [
    {
     "name": "stdout",
     "output_type": "stream",
     "text": [
      "<class 'pandas.core.frame.DataFrame'>\n",
      "RangeIndex: 14723 entries, 0 to 14722\n",
      "Columns: 272 entries, RegionID to 2018-04\n",
      "dtypes: float64(219), int64(49), object(4)\n",
      "memory usage: 30.6+ MB\n"
     ]
    }
   ],
   "source": [
    "data.info()"
   ]
  },
  {
   "cell_type": "markdown",
   "metadata": {},
   "source": [
    "The dataset contains 14723 rows and 272 columns.    \n",
    "Each of the row is a unique zipcode.    \n",
    "The dataset as seen is in a Wide format. Columns 1-7 show the different properties of a house.    \n",
    "However,  column 8 to column 272 are actual time series values. The columns refer to the median house sales values for their respective month and year.      \n",
    "This format makes the dataframe intuitive and easy to read. However problems with this dataset may come in when it comes to actually learning from the data. We'll deal with that when we get there.   \n",
    "The first 7 columns represent:\n",
    "* RegionID - The Regional ID for the region where a house is located.\n",
    "* RegionName - The Zipcode. \n",
    "* City - The City of a particular house. \n",
    "* State - The state in which a home is in. \n",
    "* Metro - The metropolitan area where the home is found. \n",
    "* CountyName - The county where the home is in. \n",
    "* SizeRank - The rank of a property's size relative to other properties in the dataset.      \n"
   ]
  },
  {
   "cell_type": "markdown",
   "metadata": {},
   "source": [
    "Rename the RegionName to zipcode"
   ]
  },
  {
   "cell_type": "code",
   "execution_count": 175,
   "metadata": {},
   "outputs": [],
   "source": [
    "# rename the RegionName to ZipCode\n",
    "data.rename({\"RegionName\":\"ZipCode\"}, axis=1 , inplace=True)"
   ]
  },
  {
   "cell_type": "markdown",
   "metadata": {},
   "source": [
    "Check for missing values"
   ]
  },
  {
   "cell_type": "code",
   "execution_count": 176,
   "metadata": {},
   "outputs": [
    {
     "data": {
      "text/plain": [
       "RegionID       0\n",
       "ZipCode        0\n",
       "City           0\n",
       "State          0\n",
       "Metro       1043\n",
       "            ... \n",
       "2017-12        0\n",
       "2018-01        0\n",
       "2018-02        0\n",
       "2018-03        0\n",
       "2018-04        0\n",
       "Length: 272, dtype: int64"
      ]
     },
     "execution_count": 176,
     "metadata": {},
     "output_type": "execute_result"
    }
   ],
   "source": [
    "data.isna().sum()"
   ]
  },
  {
   "cell_type": "markdown",
   "metadata": {},
   "source": [
    "As is always the case with time series data, we have missing values. "
   ]
  },
  {
   "cell_type": "code",
   "execution_count": 177,
   "metadata": {},
   "outputs": [],
   "source": [
    "# drop the missing values\n",
    "data.dropna(axis=0, inplace=True)"
   ]
  },
  {
   "cell_type": "code",
   "execution_count": 178,
   "metadata": {},
   "outputs": [
    {
     "data": {
      "text/plain": [
       "0"
      ]
     },
     "execution_count": 178,
     "metadata": {},
     "output_type": "execute_result"
    }
   ],
   "source": [
    "data.isna().sum().sum()"
   ]
  },
  {
   "cell_type": "markdown",
   "metadata": {},
   "source": [
    "### Choosing zipcodes"
   ]
  },
  {
   "cell_type": "markdown",
   "metadata": {},
   "source": [
    "We will use Return On Investment (ROI) and Compound Annual Growth Rate (CAGR) as our metrics  to decide the best zipcodes.          \n",
    "ROI measures the profitability while CAGR checks the variation.      \n",
    "We will measure the best zipcodes for the last 10 years.    \n",
    "We will do this by adding roi column and cagr column to calculate the return on investment and the cagr respectively for every zipcode.  "
   ]
  },
  {
   "cell_type": "code",
   "execution_count": 179,
   "metadata": {},
   "outputs": [
    {
     "data": {
      "text/html": [
       "<div>\n",
       "<style scoped>\n",
       "    .dataframe tbody tr th:only-of-type {\n",
       "        vertical-align: middle;\n",
       "    }\n",
       "\n",
       "    .dataframe tbody tr th {\n",
       "        vertical-align: top;\n",
       "    }\n",
       "\n",
       "    .dataframe thead th {\n",
       "        text-align: right;\n",
       "    }\n",
       "</style>\n",
       "<table border=\"1\" class=\"dataframe\">\n",
       "  <thead>\n",
       "    <tr style=\"text-align: right;\">\n",
       "      <th></th>\n",
       "      <th>RegionID</th>\n",
       "      <th>ZipCode</th>\n",
       "      <th>City</th>\n",
       "      <th>State</th>\n",
       "      <th>Metro</th>\n",
       "      <th>CountyName</th>\n",
       "      <th>SizeRank</th>\n",
       "      <th>1996-04</th>\n",
       "      <th>1996-05</th>\n",
       "      <th>1996-06</th>\n",
       "      <th>...</th>\n",
       "      <th>2017-09</th>\n",
       "      <th>2017-10</th>\n",
       "      <th>2017-11</th>\n",
       "      <th>2017-12</th>\n",
       "      <th>2018-01</th>\n",
       "      <th>2018-02</th>\n",
       "      <th>2018-03</th>\n",
       "      <th>2018-04</th>\n",
       "      <th>roi</th>\n",
       "      <th>cagr</th>\n",
       "    </tr>\n",
       "  </thead>\n",
       "  <tbody>\n",
       "    <tr>\n",
       "      <th>0</th>\n",
       "      <td>84654</td>\n",
       "      <td>60657</td>\n",
       "      <td>Chicago</td>\n",
       "      <td>IL</td>\n",
       "      <td>Chicago</td>\n",
       "      <td>Cook</td>\n",
       "      <td>1</td>\n",
       "      <td>334200.0</td>\n",
       "      <td>335400.0</td>\n",
       "      <td>336500.0</td>\n",
       "      <td>...</td>\n",
       "      <td>1007800</td>\n",
       "      <td>1009600</td>\n",
       "      <td>1013300</td>\n",
       "      <td>1018700</td>\n",
       "      <td>1024400</td>\n",
       "      <td>1030700</td>\n",
       "      <td>1033800</td>\n",
       "      <td>1030600</td>\n",
       "      <td>19.130736</td>\n",
       "      <td>1.765925</td>\n",
       "    </tr>\n",
       "    <tr>\n",
       "      <th>1</th>\n",
       "      <td>90668</td>\n",
       "      <td>75070</td>\n",
       "      <td>McKinney</td>\n",
       "      <td>TX</td>\n",
       "      <td>Dallas-Fort Worth</td>\n",
       "      <td>Collin</td>\n",
       "      <td>2</td>\n",
       "      <td>235700.0</td>\n",
       "      <td>236900.0</td>\n",
       "      <td>236700.0</td>\n",
       "      <td>...</td>\n",
       "      <td>312500</td>\n",
       "      <td>314100</td>\n",
       "      <td>315000</td>\n",
       "      <td>316600</td>\n",
       "      <td>318100</td>\n",
       "      <td>319600</td>\n",
       "      <td>321100</td>\n",
       "      <td>321800</td>\n",
       "      <td>52.367424</td>\n",
       "      <td>4.301178</td>\n",
       "    </tr>\n",
       "    <tr>\n",
       "      <th>2</th>\n",
       "      <td>91982</td>\n",
       "      <td>77494</td>\n",
       "      <td>Katy</td>\n",
       "      <td>TX</td>\n",
       "      <td>Houston</td>\n",
       "      <td>Harris</td>\n",
       "      <td>3</td>\n",
       "      <td>210400.0</td>\n",
       "      <td>212200.0</td>\n",
       "      <td>212200.0</td>\n",
       "      <td>...</td>\n",
       "      <td>320200</td>\n",
       "      <td>320400</td>\n",
       "      <td>320800</td>\n",
       "      <td>321200</td>\n",
       "      <td>321200</td>\n",
       "      <td>323000</td>\n",
       "      <td>326900</td>\n",
       "      <td>329900</td>\n",
       "      <td>32.224449</td>\n",
       "      <td>2.832685</td>\n",
       "    </tr>\n",
       "    <tr>\n",
       "      <th>3</th>\n",
       "      <td>84616</td>\n",
       "      <td>60614</td>\n",
       "      <td>Chicago</td>\n",
       "      <td>IL</td>\n",
       "      <td>Chicago</td>\n",
       "      <td>Cook</td>\n",
       "      <td>4</td>\n",
       "      <td>498100.0</td>\n",
       "      <td>500900.0</td>\n",
       "      <td>503100.0</td>\n",
       "      <td>...</td>\n",
       "      <td>1287400</td>\n",
       "      <td>1291500</td>\n",
       "      <td>1296600</td>\n",
       "      <td>1299000</td>\n",
       "      <td>1302700</td>\n",
       "      <td>1306400</td>\n",
       "      <td>1308500</td>\n",
       "      <td>1307000</td>\n",
       "      <td>14.238266</td>\n",
       "      <td>1.340061</td>\n",
       "    </tr>\n",
       "    <tr>\n",
       "      <th>4</th>\n",
       "      <td>93144</td>\n",
       "      <td>79936</td>\n",
       "      <td>El Paso</td>\n",
       "      <td>TX</td>\n",
       "      <td>El Paso</td>\n",
       "      <td>El Paso</td>\n",
       "      <td>5</td>\n",
       "      <td>77300.0</td>\n",
       "      <td>77300.0</td>\n",
       "      <td>77300.0</td>\n",
       "      <td>...</td>\n",
       "      <td>120000</td>\n",
       "      <td>120300</td>\n",
       "      <td>120300</td>\n",
       "      <td>120300</td>\n",
       "      <td>120300</td>\n",
       "      <td>120500</td>\n",
       "      <td>121000</td>\n",
       "      <td>121500</td>\n",
       "      <td>-5.300078</td>\n",
       "      <td>-0.543090</td>\n",
       "    </tr>\n",
       "  </tbody>\n",
       "</table>\n",
       "<p>5 rows × 274 columns</p>\n",
       "</div>"
      ],
      "text/plain": [
       "   RegionID  ZipCode      City State              Metro CountyName  SizeRank  \\\n",
       "0     84654    60657   Chicago    IL            Chicago       Cook         1   \n",
       "1     90668    75070  McKinney    TX  Dallas-Fort Worth     Collin         2   \n",
       "2     91982    77494      Katy    TX            Houston     Harris         3   \n",
       "3     84616    60614   Chicago    IL            Chicago       Cook         4   \n",
       "4     93144    79936   El Paso    TX            El Paso    El Paso         5   \n",
       "\n",
       "    1996-04   1996-05   1996-06  ...  2017-09  2017-10  2017-11  2017-12  \\\n",
       "0  334200.0  335400.0  336500.0  ...  1007800  1009600  1013300  1018700   \n",
       "1  235700.0  236900.0  236700.0  ...   312500   314100   315000   316600   \n",
       "2  210400.0  212200.0  212200.0  ...   320200   320400   320800   321200   \n",
       "3  498100.0  500900.0  503100.0  ...  1287400  1291500  1296600  1299000   \n",
       "4   77300.0   77300.0   77300.0  ...   120000   120300   120300   120300   \n",
       "\n",
       "   2018-01  2018-02  2018-03  2018-04        roi      cagr  \n",
       "0  1024400  1030700  1033800  1030600  19.130736  1.765925  \n",
       "1   318100   319600   321100   321800  52.367424  4.301178  \n",
       "2   321200   323000   326900   329900  32.224449  2.832685  \n",
       "3  1302700  1306400  1308500  1307000  14.238266  1.340061  \n",
       "4   120300   120500   121000   121500  -5.300078 -0.543090  \n",
       "\n",
       "[5 rows x 274 columns]"
      ]
     },
     "execution_count": 179,
     "metadata": {},
     "output_type": "execute_result"
    }
   ],
   "source": [
    "# copy the dataframe\n",
    "sample_data = data.copy()\n",
    "\n",
    "#add an roi column for the last 10 years\n",
    "sample_data[\"roi\"] = (sample_data[\"2018-04\"] - sample_data[\"2008-04\"]) / sample_data[\"2008-04\"] * 100\n",
    "\n",
    "# add cagr column for the last 10 years\n",
    "sample_data[\"cagr\"] = (((sample_data[\"2018-04\"] / sample_data[\"2008-04\"]) ** (1/10)) -1) * 100\n",
    "sample_data.head()"
   ]
  },
  {
   "cell_type": "markdown",
   "metadata": {},
   "source": [
    "We now choose the  best 5 zipcodes depending on the both the ROI and CAGR"
   ]
  },
  {
   "cell_type": "code",
   "execution_count": 180,
   "metadata": {},
   "outputs": [
    {
     "data": {
      "text/html": [
       "<div>\n",
       "<style scoped>\n",
       "    .dataframe tbody tr th:only-of-type {\n",
       "        vertical-align: middle;\n",
       "    }\n",
       "\n",
       "    .dataframe tbody tr th {\n",
       "        vertical-align: top;\n",
       "    }\n",
       "\n",
       "    .dataframe thead th {\n",
       "        text-align: right;\n",
       "    }\n",
       "</style>\n",
       "<table border=\"1\" class=\"dataframe\">\n",
       "  <thead>\n",
       "    <tr style=\"text-align: right;\">\n",
       "      <th></th>\n",
       "      <th>RegionID</th>\n",
       "      <th>ZipCode</th>\n",
       "      <th>City</th>\n",
       "      <th>State</th>\n",
       "      <th>Metro</th>\n",
       "      <th>CountyName</th>\n",
       "      <th>SizeRank</th>\n",
       "      <th>1996-04</th>\n",
       "      <th>1996-05</th>\n",
       "      <th>1996-06</th>\n",
       "      <th>...</th>\n",
       "      <th>2017-09</th>\n",
       "      <th>2017-10</th>\n",
       "      <th>2017-11</th>\n",
       "      <th>2017-12</th>\n",
       "      <th>2018-01</th>\n",
       "      <th>2018-02</th>\n",
       "      <th>2018-03</th>\n",
       "      <th>2018-04</th>\n",
       "      <th>roi</th>\n",
       "      <th>cagr</th>\n",
       "    </tr>\n",
       "  </thead>\n",
       "  <tbody>\n",
       "    <tr>\n",
       "      <th>6563</th>\n",
       "      <td>63932</td>\n",
       "      <td>15201</td>\n",
       "      <td>Pittsburgh</td>\n",
       "      <td>PA</td>\n",
       "      <td>Pittsburgh</td>\n",
       "      <td>Allegheny</td>\n",
       "      <td>6564</td>\n",
       "      <td>34400.0</td>\n",
       "      <td>34600.0</td>\n",
       "      <td>34700.0</td>\n",
       "      <td>...</td>\n",
       "      <td>166100</td>\n",
       "      <td>167600</td>\n",
       "      <td>169000</td>\n",
       "      <td>170400</td>\n",
       "      <td>171400</td>\n",
       "      <td>173900</td>\n",
       "      <td>179700</td>\n",
       "      <td>185200</td>\n",
       "      <td>166.474820</td>\n",
       "      <td>10.297487</td>\n",
       "    </tr>\n",
       "    <tr>\n",
       "      <th>2580</th>\n",
       "      <td>97530</td>\n",
       "      <td>94043</td>\n",
       "      <td>Mountain View</td>\n",
       "      <td>CA</td>\n",
       "      <td>San Jose</td>\n",
       "      <td>Santa Clara</td>\n",
       "      <td>2581</td>\n",
       "      <td>291700.0</td>\n",
       "      <td>294000.0</td>\n",
       "      <td>296400.0</td>\n",
       "      <td>...</td>\n",
       "      <td>1779800</td>\n",
       "      <td>1812000</td>\n",
       "      <td>1847800</td>\n",
       "      <td>1881900</td>\n",
       "      <td>1915700</td>\n",
       "      <td>1965600</td>\n",
       "      <td>2031800</td>\n",
       "      <td>2074900</td>\n",
       "      <td>160.110317</td>\n",
       "      <td>10.031177</td>\n",
       "    </tr>\n",
       "    <tr>\n",
       "      <th>1155</th>\n",
       "      <td>62033</td>\n",
       "      <td>11222</td>\n",
       "      <td>New York</td>\n",
       "      <td>NY</td>\n",
       "      <td>New York</td>\n",
       "      <td>Kings</td>\n",
       "      <td>1156</td>\n",
       "      <td>149200.0</td>\n",
       "      <td>148400.0</td>\n",
       "      <td>147500.0</td>\n",
       "      <td>...</td>\n",
       "      <td>1638700</td>\n",
       "      <td>1640400</td>\n",
       "      <td>1644100</td>\n",
       "      <td>1651200</td>\n",
       "      <td>1661800</td>\n",
       "      <td>1672800</td>\n",
       "      <td>1694000</td>\n",
       "      <td>1721100</td>\n",
       "      <td>157.611136</td>\n",
       "      <td>9.924997</td>\n",
       "    </tr>\n",
       "    <tr>\n",
       "      <th>5738</th>\n",
       "      <td>97691</td>\n",
       "      <td>94301</td>\n",
       "      <td>Palo Alto</td>\n",
       "      <td>CA</td>\n",
       "      <td>San Jose</td>\n",
       "      <td>Santa Clara</td>\n",
       "      <td>5739</td>\n",
       "      <td>709500.0</td>\n",
       "      <td>711900.0</td>\n",
       "      <td>715000.0</td>\n",
       "      <td>...</td>\n",
       "      <td>4319300</td>\n",
       "      <td>4401100</td>\n",
       "      <td>4481700</td>\n",
       "      <td>4544700</td>\n",
       "      <td>4595100</td>\n",
       "      <td>4668700</td>\n",
       "      <td>4762600</td>\n",
       "      <td>4818400</td>\n",
       "      <td>156.475222</td>\n",
       "      <td>9.876430</td>\n",
       "    </tr>\n",
       "    <tr>\n",
       "      <th>117</th>\n",
       "      <td>62022</td>\n",
       "      <td>11211</td>\n",
       "      <td>New York</td>\n",
       "      <td>NY</td>\n",
       "      <td>New York</td>\n",
       "      <td>Kings</td>\n",
       "      <td>118</td>\n",
       "      <td>133200.0</td>\n",
       "      <td>132900.0</td>\n",
       "      <td>132500.0</td>\n",
       "      <td>...</td>\n",
       "      <td>1424700</td>\n",
       "      <td>1435300</td>\n",
       "      <td>1440500</td>\n",
       "      <td>1463100</td>\n",
       "      <td>1496100</td>\n",
       "      <td>1531100</td>\n",
       "      <td>1581900</td>\n",
       "      <td>1623700</td>\n",
       "      <td>147.968845</td>\n",
       "      <td>9.506453</td>\n",
       "    </tr>\n",
       "  </tbody>\n",
       "</table>\n",
       "<p>5 rows × 274 columns</p>\n",
       "</div>"
      ],
      "text/plain": [
       "      RegionID  ZipCode           City State       Metro   CountyName  \\\n",
       "6563     63932    15201     Pittsburgh    PA  Pittsburgh    Allegheny   \n",
       "2580     97530    94043  Mountain View    CA    San Jose  Santa Clara   \n",
       "1155     62033    11222       New York    NY    New York        Kings   \n",
       "5738     97691    94301      Palo Alto    CA    San Jose  Santa Clara   \n",
       "117      62022    11211       New York    NY    New York        Kings   \n",
       "\n",
       "      SizeRank   1996-04   1996-05   1996-06  ...  2017-09  2017-10  2017-11  \\\n",
       "6563      6564   34400.0   34600.0   34700.0  ...   166100   167600   169000   \n",
       "2580      2581  291700.0  294000.0  296400.0  ...  1779800  1812000  1847800   \n",
       "1155      1156  149200.0  148400.0  147500.0  ...  1638700  1640400  1644100   \n",
       "5738      5739  709500.0  711900.0  715000.0  ...  4319300  4401100  4481700   \n",
       "117        118  133200.0  132900.0  132500.0  ...  1424700  1435300  1440500   \n",
       "\n",
       "      2017-12  2018-01  2018-02  2018-03  2018-04         roi       cagr  \n",
       "6563   170400   171400   173900   179700   185200  166.474820  10.297487  \n",
       "2580  1881900  1915700  1965600  2031800  2074900  160.110317  10.031177  \n",
       "1155  1651200  1661800  1672800  1694000  1721100  157.611136   9.924997  \n",
       "5738  4544700  4595100  4668700  4762600  4818400  156.475222   9.876430  \n",
       "117   1463100  1496100  1531100  1581900  1623700  147.968845   9.506453  \n",
       "\n",
       "[5 rows x 274 columns]"
      ]
     },
     "execution_count": 180,
     "metadata": {},
     "output_type": "execute_result"
    }
   ],
   "source": [
    "# Top 5 based on ROI\n",
    "top_5_roi = sample_data.nlargest(5, 'roi')\n",
    "\n",
    "top_5_roi\n"
   ]
  },
  {
   "cell_type": "code",
   "execution_count": 181,
   "metadata": {},
   "outputs": [
    {
     "data": {
      "text/html": [
       "<div>\n",
       "<style scoped>\n",
       "    .dataframe tbody tr th:only-of-type {\n",
       "        vertical-align: middle;\n",
       "    }\n",
       "\n",
       "    .dataframe tbody tr th {\n",
       "        vertical-align: top;\n",
       "    }\n",
       "\n",
       "    .dataframe thead th {\n",
       "        text-align: right;\n",
       "    }\n",
       "</style>\n",
       "<table border=\"1\" class=\"dataframe\">\n",
       "  <thead>\n",
       "    <tr style=\"text-align: right;\">\n",
       "      <th></th>\n",
       "      <th>RegionID</th>\n",
       "      <th>ZipCode</th>\n",
       "      <th>City</th>\n",
       "      <th>State</th>\n",
       "      <th>Metro</th>\n",
       "      <th>CountyName</th>\n",
       "      <th>SizeRank</th>\n",
       "      <th>1996-04</th>\n",
       "      <th>1996-05</th>\n",
       "      <th>1996-06</th>\n",
       "      <th>...</th>\n",
       "      <th>2017-09</th>\n",
       "      <th>2017-10</th>\n",
       "      <th>2017-11</th>\n",
       "      <th>2017-12</th>\n",
       "      <th>2018-01</th>\n",
       "      <th>2018-02</th>\n",
       "      <th>2018-03</th>\n",
       "      <th>2018-04</th>\n",
       "      <th>roi</th>\n",
       "      <th>cagr</th>\n",
       "    </tr>\n",
       "  </thead>\n",
       "  <tbody>\n",
       "    <tr>\n",
       "      <th>6563</th>\n",
       "      <td>63932</td>\n",
       "      <td>15201</td>\n",
       "      <td>Pittsburgh</td>\n",
       "      <td>PA</td>\n",
       "      <td>Pittsburgh</td>\n",
       "      <td>Allegheny</td>\n",
       "      <td>6564</td>\n",
       "      <td>34400.0</td>\n",
       "      <td>34600.0</td>\n",
       "      <td>34700.0</td>\n",
       "      <td>...</td>\n",
       "      <td>166100</td>\n",
       "      <td>167600</td>\n",
       "      <td>169000</td>\n",
       "      <td>170400</td>\n",
       "      <td>171400</td>\n",
       "      <td>173900</td>\n",
       "      <td>179700</td>\n",
       "      <td>185200</td>\n",
       "      <td>166.474820</td>\n",
       "      <td>10.297487</td>\n",
       "    </tr>\n",
       "    <tr>\n",
       "      <th>2580</th>\n",
       "      <td>97530</td>\n",
       "      <td>94043</td>\n",
       "      <td>Mountain View</td>\n",
       "      <td>CA</td>\n",
       "      <td>San Jose</td>\n",
       "      <td>Santa Clara</td>\n",
       "      <td>2581</td>\n",
       "      <td>291700.0</td>\n",
       "      <td>294000.0</td>\n",
       "      <td>296400.0</td>\n",
       "      <td>...</td>\n",
       "      <td>1779800</td>\n",
       "      <td>1812000</td>\n",
       "      <td>1847800</td>\n",
       "      <td>1881900</td>\n",
       "      <td>1915700</td>\n",
       "      <td>1965600</td>\n",
       "      <td>2031800</td>\n",
       "      <td>2074900</td>\n",
       "      <td>160.110317</td>\n",
       "      <td>10.031177</td>\n",
       "    </tr>\n",
       "    <tr>\n",
       "      <th>1155</th>\n",
       "      <td>62033</td>\n",
       "      <td>11222</td>\n",
       "      <td>New York</td>\n",
       "      <td>NY</td>\n",
       "      <td>New York</td>\n",
       "      <td>Kings</td>\n",
       "      <td>1156</td>\n",
       "      <td>149200.0</td>\n",
       "      <td>148400.0</td>\n",
       "      <td>147500.0</td>\n",
       "      <td>...</td>\n",
       "      <td>1638700</td>\n",
       "      <td>1640400</td>\n",
       "      <td>1644100</td>\n",
       "      <td>1651200</td>\n",
       "      <td>1661800</td>\n",
       "      <td>1672800</td>\n",
       "      <td>1694000</td>\n",
       "      <td>1721100</td>\n",
       "      <td>157.611136</td>\n",
       "      <td>9.924997</td>\n",
       "    </tr>\n",
       "    <tr>\n",
       "      <th>5738</th>\n",
       "      <td>97691</td>\n",
       "      <td>94301</td>\n",
       "      <td>Palo Alto</td>\n",
       "      <td>CA</td>\n",
       "      <td>San Jose</td>\n",
       "      <td>Santa Clara</td>\n",
       "      <td>5739</td>\n",
       "      <td>709500.0</td>\n",
       "      <td>711900.0</td>\n",
       "      <td>715000.0</td>\n",
       "      <td>...</td>\n",
       "      <td>4319300</td>\n",
       "      <td>4401100</td>\n",
       "      <td>4481700</td>\n",
       "      <td>4544700</td>\n",
       "      <td>4595100</td>\n",
       "      <td>4668700</td>\n",
       "      <td>4762600</td>\n",
       "      <td>4818400</td>\n",
       "      <td>156.475222</td>\n",
       "      <td>9.876430</td>\n",
       "    </tr>\n",
       "    <tr>\n",
       "      <th>117</th>\n",
       "      <td>62022</td>\n",
       "      <td>11211</td>\n",
       "      <td>New York</td>\n",
       "      <td>NY</td>\n",
       "      <td>New York</td>\n",
       "      <td>Kings</td>\n",
       "      <td>118</td>\n",
       "      <td>133200.0</td>\n",
       "      <td>132900.0</td>\n",
       "      <td>132500.0</td>\n",
       "      <td>...</td>\n",
       "      <td>1424700</td>\n",
       "      <td>1435300</td>\n",
       "      <td>1440500</td>\n",
       "      <td>1463100</td>\n",
       "      <td>1496100</td>\n",
       "      <td>1531100</td>\n",
       "      <td>1581900</td>\n",
       "      <td>1623700</td>\n",
       "      <td>147.968845</td>\n",
       "      <td>9.506453</td>\n",
       "    </tr>\n",
       "  </tbody>\n",
       "</table>\n",
       "<p>5 rows × 274 columns</p>\n",
       "</div>"
      ],
      "text/plain": [
       "      RegionID  ZipCode           City State       Metro   CountyName  \\\n",
       "6563     63932    15201     Pittsburgh    PA  Pittsburgh    Allegheny   \n",
       "2580     97530    94043  Mountain View    CA    San Jose  Santa Clara   \n",
       "1155     62033    11222       New York    NY    New York        Kings   \n",
       "5738     97691    94301      Palo Alto    CA    San Jose  Santa Clara   \n",
       "117      62022    11211       New York    NY    New York        Kings   \n",
       "\n",
       "      SizeRank   1996-04   1996-05   1996-06  ...  2017-09  2017-10  2017-11  \\\n",
       "6563      6564   34400.0   34600.0   34700.0  ...   166100   167600   169000   \n",
       "2580      2581  291700.0  294000.0  296400.0  ...  1779800  1812000  1847800   \n",
       "1155      1156  149200.0  148400.0  147500.0  ...  1638700  1640400  1644100   \n",
       "5738      5739  709500.0  711900.0  715000.0  ...  4319300  4401100  4481700   \n",
       "117        118  133200.0  132900.0  132500.0  ...  1424700  1435300  1440500   \n",
       "\n",
       "      2017-12  2018-01  2018-02  2018-03  2018-04         roi       cagr  \n",
       "6563   170400   171400   173900   179700   185200  166.474820  10.297487  \n",
       "2580  1881900  1915700  1965600  2031800  2074900  160.110317  10.031177  \n",
       "1155  1651200  1661800  1672800  1694000  1721100  157.611136   9.924997  \n",
       "5738  4544700  4595100  4668700  4762600  4818400  156.475222   9.876430  \n",
       "117   1463100  1496100  1531100  1581900  1623700  147.968845   9.506453  \n",
       "\n",
       "[5 rows x 274 columns]"
      ]
     },
     "execution_count": 181,
     "metadata": {},
     "output_type": "execute_result"
    }
   ],
   "source": [
    "# Top 5 based on CAGR\n",
    "top_5_cagr = sample_data.nlargest(5, 'cagr')\n",
    "\n",
    "top_5_cagr"
   ]
  },
  {
   "cell_type": "markdown",
   "metadata": {},
   "source": [
    "The zipcodes with the best roi are still the zipcodes with the best cagr. "
   ]
  },
  {
   "cell_type": "markdown",
   "metadata": {},
   "source": [
    "#### CONVERTING THE DATASET TO LONG FORMAT"
   ]
  },
  {
   "cell_type": "markdown",
   "metadata": {},
   "source": [
    "We will convert the dataset to a wide format and make the time column the index for easier manipulation of the dataframe. "
   ]
  },
  {
   "cell_type": "code",
   "execution_count": 182,
   "metadata": {},
   "outputs": [
    {
     "data": {
      "text/html": [
       "<div>\n",
       "<style scoped>\n",
       "    .dataframe tbody tr th:only-of-type {\n",
       "        vertical-align: middle;\n",
       "    }\n",
       "\n",
       "    .dataframe tbody tr th {\n",
       "        vertical-align: top;\n",
       "    }\n",
       "\n",
       "    .dataframe thead th {\n",
       "        text-align: right;\n",
       "    }\n",
       "</style>\n",
       "<table border=\"1\" class=\"dataframe\">\n",
       "  <thead>\n",
       "    <tr style=\"text-align: right;\">\n",
       "      <th></th>\n",
       "      <th>RegionID</th>\n",
       "      <th>ZipCode</th>\n",
       "      <th>City</th>\n",
       "      <th>State</th>\n",
       "      <th>Metro</th>\n",
       "      <th>CountyName</th>\n",
       "      <th>SizeRank</th>\n",
       "      <th>1996-04</th>\n",
       "      <th>1996-05</th>\n",
       "      <th>1996-06</th>\n",
       "      <th>...</th>\n",
       "      <th>2017-07</th>\n",
       "      <th>2017-08</th>\n",
       "      <th>2017-09</th>\n",
       "      <th>2017-10</th>\n",
       "      <th>2017-11</th>\n",
       "      <th>2017-12</th>\n",
       "      <th>2018-01</th>\n",
       "      <th>2018-02</th>\n",
       "      <th>2018-03</th>\n",
       "      <th>2018-04</th>\n",
       "    </tr>\n",
       "  </thead>\n",
       "  <tbody>\n",
       "    <tr>\n",
       "      <th>0</th>\n",
       "      <td>84654</td>\n",
       "      <td>60657</td>\n",
       "      <td>Chicago</td>\n",
       "      <td>IL</td>\n",
       "      <td>Chicago</td>\n",
       "      <td>Cook</td>\n",
       "      <td>1</td>\n",
       "      <td>334200.0</td>\n",
       "      <td>335400.0</td>\n",
       "      <td>336500.0</td>\n",
       "      <td>...</td>\n",
       "      <td>1005500</td>\n",
       "      <td>1007500</td>\n",
       "      <td>1007800</td>\n",
       "      <td>1009600</td>\n",
       "      <td>1013300</td>\n",
       "      <td>1018700</td>\n",
       "      <td>1024400</td>\n",
       "      <td>1030700</td>\n",
       "      <td>1033800</td>\n",
       "      <td>1030600</td>\n",
       "    </tr>\n",
       "    <tr>\n",
       "      <th>1</th>\n",
       "      <td>90668</td>\n",
       "      <td>75070</td>\n",
       "      <td>McKinney</td>\n",
       "      <td>TX</td>\n",
       "      <td>Dallas-Fort Worth</td>\n",
       "      <td>Collin</td>\n",
       "      <td>2</td>\n",
       "      <td>235700.0</td>\n",
       "      <td>236900.0</td>\n",
       "      <td>236700.0</td>\n",
       "      <td>...</td>\n",
       "      <td>308000</td>\n",
       "      <td>310000</td>\n",
       "      <td>312500</td>\n",
       "      <td>314100</td>\n",
       "      <td>315000</td>\n",
       "      <td>316600</td>\n",
       "      <td>318100</td>\n",
       "      <td>319600</td>\n",
       "      <td>321100</td>\n",
       "      <td>321800</td>\n",
       "    </tr>\n",
       "    <tr>\n",
       "      <th>2</th>\n",
       "      <td>91982</td>\n",
       "      <td>77494</td>\n",
       "      <td>Katy</td>\n",
       "      <td>TX</td>\n",
       "      <td>Houston</td>\n",
       "      <td>Harris</td>\n",
       "      <td>3</td>\n",
       "      <td>210400.0</td>\n",
       "      <td>212200.0</td>\n",
       "      <td>212200.0</td>\n",
       "      <td>...</td>\n",
       "      <td>321000</td>\n",
       "      <td>320600</td>\n",
       "      <td>320200</td>\n",
       "      <td>320400</td>\n",
       "      <td>320800</td>\n",
       "      <td>321200</td>\n",
       "      <td>321200</td>\n",
       "      <td>323000</td>\n",
       "      <td>326900</td>\n",
       "      <td>329900</td>\n",
       "    </tr>\n",
       "    <tr>\n",
       "      <th>3</th>\n",
       "      <td>84616</td>\n",
       "      <td>60614</td>\n",
       "      <td>Chicago</td>\n",
       "      <td>IL</td>\n",
       "      <td>Chicago</td>\n",
       "      <td>Cook</td>\n",
       "      <td>4</td>\n",
       "      <td>498100.0</td>\n",
       "      <td>500900.0</td>\n",
       "      <td>503100.0</td>\n",
       "      <td>...</td>\n",
       "      <td>1289800</td>\n",
       "      <td>1287700</td>\n",
       "      <td>1287400</td>\n",
       "      <td>1291500</td>\n",
       "      <td>1296600</td>\n",
       "      <td>1299000</td>\n",
       "      <td>1302700</td>\n",
       "      <td>1306400</td>\n",
       "      <td>1308500</td>\n",
       "      <td>1307000</td>\n",
       "    </tr>\n",
       "    <tr>\n",
       "      <th>4</th>\n",
       "      <td>93144</td>\n",
       "      <td>79936</td>\n",
       "      <td>El Paso</td>\n",
       "      <td>TX</td>\n",
       "      <td>El Paso</td>\n",
       "      <td>El Paso</td>\n",
       "      <td>5</td>\n",
       "      <td>77300.0</td>\n",
       "      <td>77300.0</td>\n",
       "      <td>77300.0</td>\n",
       "      <td>...</td>\n",
       "      <td>119100</td>\n",
       "      <td>119400</td>\n",
       "      <td>120000</td>\n",
       "      <td>120300</td>\n",
       "      <td>120300</td>\n",
       "      <td>120300</td>\n",
       "      <td>120300</td>\n",
       "      <td>120500</td>\n",
       "      <td>121000</td>\n",
       "      <td>121500</td>\n",
       "    </tr>\n",
       "  </tbody>\n",
       "</table>\n",
       "<p>5 rows × 272 columns</p>\n",
       "</div>"
      ],
      "text/plain": [
       "   RegionID  ZipCode      City State              Metro CountyName  SizeRank  \\\n",
       "0     84654    60657   Chicago    IL            Chicago       Cook         1   \n",
       "1     90668    75070  McKinney    TX  Dallas-Fort Worth     Collin         2   \n",
       "2     91982    77494      Katy    TX            Houston     Harris         3   \n",
       "3     84616    60614   Chicago    IL            Chicago       Cook         4   \n",
       "4     93144    79936   El Paso    TX            El Paso    El Paso         5   \n",
       "\n",
       "    1996-04   1996-05   1996-06  ...  2017-07  2017-08  2017-09  2017-10  \\\n",
       "0  334200.0  335400.0  336500.0  ...  1005500  1007500  1007800  1009600   \n",
       "1  235700.0  236900.0  236700.0  ...   308000   310000   312500   314100   \n",
       "2  210400.0  212200.0  212200.0  ...   321000   320600   320200   320400   \n",
       "3  498100.0  500900.0  503100.0  ...  1289800  1287700  1287400  1291500   \n",
       "4   77300.0   77300.0   77300.0  ...   119100   119400   120000   120300   \n",
       "\n",
       "   2017-11  2017-12  2018-01  2018-02  2018-03  2018-04  \n",
       "0  1013300  1018700  1024400  1030700  1033800  1030600  \n",
       "1   315000   316600   318100   319600   321100   321800  \n",
       "2   320800   321200   321200   323000   326900   329900  \n",
       "3  1296600  1299000  1302700  1306400  1308500  1307000  \n",
       "4   120300   120300   120300   120500   121000   121500  \n",
       "\n",
       "[5 rows x 272 columns]"
      ]
     },
     "execution_count": 182,
     "metadata": {},
     "output_type": "execute_result"
    }
   ],
   "source": [
    "# As seen below, the data is in a wide format,   we need to convert the data to a long format\n",
    "data.head()"
   ]
  },
  {
   "cell_type": "code",
   "execution_count": 183,
   "metadata": {},
   "outputs": [
    {
     "data": {
      "text/html": [
       "<div>\n",
       "<style scoped>\n",
       "    .dataframe tbody tr th:only-of-type {\n",
       "        vertical-align: middle;\n",
       "    }\n",
       "\n",
       "    .dataframe tbody tr th {\n",
       "        vertical-align: top;\n",
       "    }\n",
       "\n",
       "    .dataframe thead th {\n",
       "        text-align: right;\n",
       "    }\n",
       "</style>\n",
       "<table border=\"1\" class=\"dataframe\">\n",
       "  <thead>\n",
       "    <tr style=\"text-align: right;\">\n",
       "      <th></th>\n",
       "      <th>value</th>\n",
       "    </tr>\n",
       "    <tr>\n",
       "      <th>time</th>\n",
       "      <th></th>\n",
       "    </tr>\n",
       "  </thead>\n",
       "  <tbody>\n",
       "    <tr>\n",
       "      <th>1996-04-01</th>\n",
       "      <td>121203.582784</td>\n",
       "    </tr>\n",
       "    <tr>\n",
       "      <th>1996-05-01</th>\n",
       "      <td>121327.056999</td>\n",
       "    </tr>\n",
       "    <tr>\n",
       "      <th>1996-06-01</th>\n",
       "      <td>121449.019000</td>\n",
       "    </tr>\n",
       "    <tr>\n",
       "      <th>1996-07-01</th>\n",
       "      <td>121568.359829</td>\n",
       "    </tr>\n",
       "    <tr>\n",
       "      <th>1996-08-01</th>\n",
       "      <td>121699.387359</td>\n",
       "    </tr>\n",
       "  </tbody>\n",
       "</table>\n",
       "</div>"
      ],
      "text/plain": [
       "                    value\n",
       "time                     \n",
       "1996-04-01  121203.582784\n",
       "1996-05-01  121327.056999\n",
       "1996-06-01  121449.019000\n",
       "1996-07-01  121568.359829\n",
       "1996-08-01  121699.387359"
      ]
     },
     "execution_count": 183,
     "metadata": {},
     "output_type": "execute_result"
    }
   ],
   "source": [
    "def melt_data(df):\n",
    "    \"\"\"\n",
    "    Takes the zillow_data dataset in wide form or a subset of the zillow_dataset.  \n",
    "    Returns a long-form datetime dataframe \n",
    "    with the datetime column names as the index and the values as the 'values' column.\n",
    "    \n",
    "    If more than one row is passes in the wide-form dataset, the values column\n",
    "    will be the mean of the values from the datetime columns in all of the rows.\n",
    "    \"\"\"\n",
    "    \n",
    "    melted = pd.melt(df, id_vars=['ZipCode', 'RegionID', 'SizeRank', 'City', 'State', 'Metro', 'CountyName'], var_name='time')\n",
    "    melted['time'] = pd.to_datetime(melted['time'], infer_datetime_format=True)\n",
    "    melted = melted.dropna(subset=['value'])\n",
    "    melted.set_index(\"time\", inplace=True)\n",
    "    melted_data = melted.groupby(\"time\").aggregate({'value' : 'mean'})\n",
    "    return melted_data\n",
    "\n",
    "melted_data = melt_data(data) \n",
    "melted_data.head()\n"
   ]
  },
  {
   "cell_type": "markdown",
   "metadata": {},
   "source": [
    "We now have the long format of our time series data. Additionally, the data is now aggregated in months.  "
   ]
  },
  {
   "cell_type": "code",
   "execution_count": 184,
   "metadata": {},
   "outputs": [
    {
     "data": {
      "text/html": [
       "<div>\n",
       "<style scoped>\n",
       "    .dataframe tbody tr th:only-of-type {\n",
       "        vertical-align: middle;\n",
       "    }\n",
       "\n",
       "    .dataframe tbody tr th {\n",
       "        vertical-align: top;\n",
       "    }\n",
       "\n",
       "    .dataframe thead th {\n",
       "        text-align: right;\n",
       "    }\n",
       "</style>\n",
       "<table border=\"1\" class=\"dataframe\">\n",
       "  <thead>\n",
       "    <tr style=\"text-align: right;\">\n",
       "      <th></th>\n",
       "      <th>value</th>\n",
       "    </tr>\n",
       "  </thead>\n",
       "  <tbody>\n",
       "    <tr>\n",
       "      <th>count</th>\n",
       "      <td>265.000000</td>\n",
       "    </tr>\n",
       "    <tr>\n",
       "      <th>mean</th>\n",
       "      <td>213802.968154</td>\n",
       "    </tr>\n",
       "    <tr>\n",
       "      <th>std</th>\n",
       "      <td>50444.581349</td>\n",
       "    </tr>\n",
       "    <tr>\n",
       "      <th>min</th>\n",
       "      <td>121203.582784</td>\n",
       "    </tr>\n",
       "    <tr>\n",
       "      <th>25%</th>\n",
       "      <td>173148.034122</td>\n",
       "    </tr>\n",
       "    <tr>\n",
       "      <th>50%</th>\n",
       "      <td>222675.773556</td>\n",
       "    </tr>\n",
       "    <tr>\n",
       "      <th>75%</th>\n",
       "      <td>255350.438154</td>\n",
       "    </tr>\n",
       "    <tr>\n",
       "      <th>max</th>\n",
       "      <td>302709.841024</td>\n",
       "    </tr>\n",
       "  </tbody>\n",
       "</table>\n",
       "</div>"
      ],
      "text/plain": [
       "               value\n",
       "count     265.000000\n",
       "mean   213802.968154\n",
       "std     50444.581349\n",
       "min    121203.582784\n",
       "25%    173148.034122\n",
       "50%    222675.773556\n",
       "75%    255350.438154\n",
       "max    302709.841024"
      ]
     },
     "execution_count": 184,
     "metadata": {},
     "output_type": "execute_result"
    }
   ],
   "source": [
    "#  check the home prices summary statistics \n",
    "melted_data.describe()"
   ]
  },
  {
   "cell_type": "markdown",
   "metadata": {},
   "source": [
    "The average home price is  $ 208049 for the past 22 years. \n",
    "This is with a standard deviation of 48821 over the same period"
   ]
  },
  {
   "cell_type": "markdown",
   "metadata": {},
   "source": [
    "Let's get our best 5 zipcodes"
   ]
  },
  {
   "cell_type": "code",
   "execution_count": 185,
   "metadata": {},
   "outputs": [
    {
     "data": {
      "text/html": [
       "<div>\n",
       "<style scoped>\n",
       "    .dataframe tbody tr th:only-of-type {\n",
       "        vertical-align: middle;\n",
       "    }\n",
       "\n",
       "    .dataframe tbody tr th {\n",
       "        vertical-align: top;\n",
       "    }\n",
       "\n",
       "    .dataframe thead th {\n",
       "        text-align: right;\n",
       "    }\n",
       "</style>\n",
       "<table border=\"1\" class=\"dataframe\">\n",
       "  <thead>\n",
       "    <tr style=\"text-align: right;\">\n",
       "      <th></th>\n",
       "      <th>RegionID</th>\n",
       "      <th>ZipCode</th>\n",
       "      <th>City</th>\n",
       "      <th>State</th>\n",
       "      <th>Metro</th>\n",
       "      <th>CountyName</th>\n",
       "      <th>SizeRank</th>\n",
       "      <th>1996-04</th>\n",
       "      <th>1996-05</th>\n",
       "      <th>1996-06</th>\n",
       "      <th>...</th>\n",
       "      <th>2017-07</th>\n",
       "      <th>2017-08</th>\n",
       "      <th>2017-09</th>\n",
       "      <th>2017-10</th>\n",
       "      <th>2017-11</th>\n",
       "      <th>2017-12</th>\n",
       "      <th>2018-01</th>\n",
       "      <th>2018-02</th>\n",
       "      <th>2018-03</th>\n",
       "      <th>2018-04</th>\n",
       "    </tr>\n",
       "  </thead>\n",
       "  <tbody>\n",
       "    <tr>\n",
       "      <th>0</th>\n",
       "      <td>84654</td>\n",
       "      <td>60657</td>\n",
       "      <td>Chicago</td>\n",
       "      <td>IL</td>\n",
       "      <td>Chicago</td>\n",
       "      <td>Cook</td>\n",
       "      <td>1</td>\n",
       "      <td>334200.0</td>\n",
       "      <td>335400.0</td>\n",
       "      <td>336500.0</td>\n",
       "      <td>...</td>\n",
       "      <td>1005500</td>\n",
       "      <td>1007500</td>\n",
       "      <td>1007800</td>\n",
       "      <td>1009600</td>\n",
       "      <td>1013300</td>\n",
       "      <td>1018700</td>\n",
       "      <td>1024400</td>\n",
       "      <td>1030700</td>\n",
       "      <td>1033800</td>\n",
       "      <td>1030600</td>\n",
       "    </tr>\n",
       "    <tr>\n",
       "      <th>1</th>\n",
       "      <td>90668</td>\n",
       "      <td>75070</td>\n",
       "      <td>McKinney</td>\n",
       "      <td>TX</td>\n",
       "      <td>Dallas-Fort Worth</td>\n",
       "      <td>Collin</td>\n",
       "      <td>2</td>\n",
       "      <td>235700.0</td>\n",
       "      <td>236900.0</td>\n",
       "      <td>236700.0</td>\n",
       "      <td>...</td>\n",
       "      <td>308000</td>\n",
       "      <td>310000</td>\n",
       "      <td>312500</td>\n",
       "      <td>314100</td>\n",
       "      <td>315000</td>\n",
       "      <td>316600</td>\n",
       "      <td>318100</td>\n",
       "      <td>319600</td>\n",
       "      <td>321100</td>\n",
       "      <td>321800</td>\n",
       "    </tr>\n",
       "    <tr>\n",
       "      <th>2</th>\n",
       "      <td>91982</td>\n",
       "      <td>77494</td>\n",
       "      <td>Katy</td>\n",
       "      <td>TX</td>\n",
       "      <td>Houston</td>\n",
       "      <td>Harris</td>\n",
       "      <td>3</td>\n",
       "      <td>210400.0</td>\n",
       "      <td>212200.0</td>\n",
       "      <td>212200.0</td>\n",
       "      <td>...</td>\n",
       "      <td>321000</td>\n",
       "      <td>320600</td>\n",
       "      <td>320200</td>\n",
       "      <td>320400</td>\n",
       "      <td>320800</td>\n",
       "      <td>321200</td>\n",
       "      <td>321200</td>\n",
       "      <td>323000</td>\n",
       "      <td>326900</td>\n",
       "      <td>329900</td>\n",
       "    </tr>\n",
       "    <tr>\n",
       "      <th>3</th>\n",
       "      <td>84616</td>\n",
       "      <td>60614</td>\n",
       "      <td>Chicago</td>\n",
       "      <td>IL</td>\n",
       "      <td>Chicago</td>\n",
       "      <td>Cook</td>\n",
       "      <td>4</td>\n",
       "      <td>498100.0</td>\n",
       "      <td>500900.0</td>\n",
       "      <td>503100.0</td>\n",
       "      <td>...</td>\n",
       "      <td>1289800</td>\n",
       "      <td>1287700</td>\n",
       "      <td>1287400</td>\n",
       "      <td>1291500</td>\n",
       "      <td>1296600</td>\n",
       "      <td>1299000</td>\n",
       "      <td>1302700</td>\n",
       "      <td>1306400</td>\n",
       "      <td>1308500</td>\n",
       "      <td>1307000</td>\n",
       "    </tr>\n",
       "    <tr>\n",
       "      <th>4</th>\n",
       "      <td>93144</td>\n",
       "      <td>79936</td>\n",
       "      <td>El Paso</td>\n",
       "      <td>TX</td>\n",
       "      <td>El Paso</td>\n",
       "      <td>El Paso</td>\n",
       "      <td>5</td>\n",
       "      <td>77300.0</td>\n",
       "      <td>77300.0</td>\n",
       "      <td>77300.0</td>\n",
       "      <td>...</td>\n",
       "      <td>119100</td>\n",
       "      <td>119400</td>\n",
       "      <td>120000</td>\n",
       "      <td>120300</td>\n",
       "      <td>120300</td>\n",
       "      <td>120300</td>\n",
       "      <td>120300</td>\n",
       "      <td>120500</td>\n",
       "      <td>121000</td>\n",
       "      <td>121500</td>\n",
       "    </tr>\n",
       "    <tr>\n",
       "      <th>...</th>\n",
       "      <td>...</td>\n",
       "      <td>...</td>\n",
       "      <td>...</td>\n",
       "      <td>...</td>\n",
       "      <td>...</td>\n",
       "      <td>...</td>\n",
       "      <td>...</td>\n",
       "      <td>...</td>\n",
       "      <td>...</td>\n",
       "      <td>...</td>\n",
       "      <td>...</td>\n",
       "      <td>...</td>\n",
       "      <td>...</td>\n",
       "      <td>...</td>\n",
       "      <td>...</td>\n",
       "      <td>...</td>\n",
       "      <td>...</td>\n",
       "      <td>...</td>\n",
       "      <td>...</td>\n",
       "      <td>...</td>\n",
       "      <td>...</td>\n",
       "    </tr>\n",
       "    <tr>\n",
       "      <th>14716</th>\n",
       "      <td>99032</td>\n",
       "      <td>97028</td>\n",
       "      <td>Rhododendron</td>\n",
       "      <td>OR</td>\n",
       "      <td>Portland</td>\n",
       "      <td>Clackamas</td>\n",
       "      <td>14717</td>\n",
       "      <td>136200.0</td>\n",
       "      <td>136600.0</td>\n",
       "      <td>136800.0</td>\n",
       "      <td>...</td>\n",
       "      <td>332600</td>\n",
       "      <td>332900</td>\n",
       "      <td>335600</td>\n",
       "      <td>338900</td>\n",
       "      <td>340500</td>\n",
       "      <td>341000</td>\n",
       "      <td>342300</td>\n",
       "      <td>345000</td>\n",
       "      <td>348000</td>\n",
       "      <td>349300</td>\n",
       "    </tr>\n",
       "    <tr>\n",
       "      <th>14718</th>\n",
       "      <td>58333</td>\n",
       "      <td>1338</td>\n",
       "      <td>Ashfield</td>\n",
       "      <td>MA</td>\n",
       "      <td>Greenfield Town</td>\n",
       "      <td>Franklin</td>\n",
       "      <td>14719</td>\n",
       "      <td>94600.0</td>\n",
       "      <td>94300.0</td>\n",
       "      <td>94000.0</td>\n",
       "      <td>...</td>\n",
       "      <td>216800</td>\n",
       "      <td>217700</td>\n",
       "      <td>218600</td>\n",
       "      <td>218500</td>\n",
       "      <td>218100</td>\n",
       "      <td>216400</td>\n",
       "      <td>213100</td>\n",
       "      <td>209800</td>\n",
       "      <td>209200</td>\n",
       "      <td>209300</td>\n",
       "    </tr>\n",
       "    <tr>\n",
       "      <th>14719</th>\n",
       "      <td>59107</td>\n",
       "      <td>3293</td>\n",
       "      <td>Woodstock</td>\n",
       "      <td>NH</td>\n",
       "      <td>Claremont</td>\n",
       "      <td>Grafton</td>\n",
       "      <td>14720</td>\n",
       "      <td>92700.0</td>\n",
       "      <td>92500.0</td>\n",
       "      <td>92400.0</td>\n",
       "      <td>...</td>\n",
       "      <td>202100</td>\n",
       "      <td>208400</td>\n",
       "      <td>212200</td>\n",
       "      <td>215200</td>\n",
       "      <td>214300</td>\n",
       "      <td>213100</td>\n",
       "      <td>213700</td>\n",
       "      <td>218300</td>\n",
       "      <td>222700</td>\n",
       "      <td>225800</td>\n",
       "    </tr>\n",
       "    <tr>\n",
       "      <th>14720</th>\n",
       "      <td>75672</td>\n",
       "      <td>40404</td>\n",
       "      <td>Berea</td>\n",
       "      <td>KY</td>\n",
       "      <td>Richmond</td>\n",
       "      <td>Madison</td>\n",
       "      <td>14721</td>\n",
       "      <td>57100.0</td>\n",
       "      <td>57300.0</td>\n",
       "      <td>57500.0</td>\n",
       "      <td>...</td>\n",
       "      <td>121800</td>\n",
       "      <td>122800</td>\n",
       "      <td>124600</td>\n",
       "      <td>126700</td>\n",
       "      <td>128800</td>\n",
       "      <td>130600</td>\n",
       "      <td>131700</td>\n",
       "      <td>132500</td>\n",
       "      <td>133000</td>\n",
       "      <td>133400</td>\n",
       "    </tr>\n",
       "    <tr>\n",
       "      <th>14722</th>\n",
       "      <td>95851</td>\n",
       "      <td>89155</td>\n",
       "      <td>Mesquite</td>\n",
       "      <td>NV</td>\n",
       "      <td>Las Vegas</td>\n",
       "      <td>Clark</td>\n",
       "      <td>14723</td>\n",
       "      <td>176400.0</td>\n",
       "      <td>176300.0</td>\n",
       "      <td>176100.0</td>\n",
       "      <td>...</td>\n",
       "      <td>333800</td>\n",
       "      <td>336400</td>\n",
       "      <td>339700</td>\n",
       "      <td>343800</td>\n",
       "      <td>346800</td>\n",
       "      <td>348900</td>\n",
       "      <td>350400</td>\n",
       "      <td>353000</td>\n",
       "      <td>356000</td>\n",
       "      <td>357200</td>\n",
       "    </tr>\n",
       "  </tbody>\n",
       "</table>\n",
       "<p>12895 rows × 272 columns</p>\n",
       "</div>"
      ],
      "text/plain": [
       "       RegionID  ZipCode          City State              Metro CountyName  \\\n",
       "0         84654    60657       Chicago    IL            Chicago       Cook   \n",
       "1         90668    75070      McKinney    TX  Dallas-Fort Worth     Collin   \n",
       "2         91982    77494          Katy    TX            Houston     Harris   \n",
       "3         84616    60614       Chicago    IL            Chicago       Cook   \n",
       "4         93144    79936       El Paso    TX            El Paso    El Paso   \n",
       "...         ...      ...           ...   ...                ...        ...   \n",
       "14716     99032    97028  Rhododendron    OR           Portland  Clackamas   \n",
       "14718     58333     1338      Ashfield    MA    Greenfield Town   Franklin   \n",
       "14719     59107     3293     Woodstock    NH          Claremont    Grafton   \n",
       "14720     75672    40404         Berea    KY           Richmond    Madison   \n",
       "14722     95851    89155      Mesquite    NV          Las Vegas      Clark   \n",
       "\n",
       "       SizeRank   1996-04   1996-05   1996-06  ...  2017-07  2017-08  2017-09  \\\n",
       "0             1  334200.0  335400.0  336500.0  ...  1005500  1007500  1007800   \n",
       "1             2  235700.0  236900.0  236700.0  ...   308000   310000   312500   \n",
       "2             3  210400.0  212200.0  212200.0  ...   321000   320600   320200   \n",
       "3             4  498100.0  500900.0  503100.0  ...  1289800  1287700  1287400   \n",
       "4             5   77300.0   77300.0   77300.0  ...   119100   119400   120000   \n",
       "...         ...       ...       ...       ...  ...      ...      ...      ...   \n",
       "14716     14717  136200.0  136600.0  136800.0  ...   332600   332900   335600   \n",
       "14718     14719   94600.0   94300.0   94000.0  ...   216800   217700   218600   \n",
       "14719     14720   92700.0   92500.0   92400.0  ...   202100   208400   212200   \n",
       "14720     14721   57100.0   57300.0   57500.0  ...   121800   122800   124600   \n",
       "14722     14723  176400.0  176300.0  176100.0  ...   333800   336400   339700   \n",
       "\n",
       "       2017-10  2017-11  2017-12  2018-01  2018-02  2018-03  2018-04  \n",
       "0      1009600  1013300  1018700  1024400  1030700  1033800  1030600  \n",
       "1       314100   315000   316600   318100   319600   321100   321800  \n",
       "2       320400   320800   321200   321200   323000   326900   329900  \n",
       "3      1291500  1296600  1299000  1302700  1306400  1308500  1307000  \n",
       "4       120300   120300   120300   120300   120500   121000   121500  \n",
       "...        ...      ...      ...      ...      ...      ...      ...  \n",
       "14716   338900   340500   341000   342300   345000   348000   349300  \n",
       "14718   218500   218100   216400   213100   209800   209200   209300  \n",
       "14719   215200   214300   213100   213700   218300   222700   225800  \n",
       "14720   126700   128800   130600   131700   132500   133000   133400  \n",
       "14722   343800   346800   348900   350400   353000   356000   357200  \n",
       "\n",
       "[12895 rows x 272 columns]"
      ]
     },
     "execution_count": 185,
     "metadata": {},
     "output_type": "execute_result"
    }
   ],
   "source": [
    "def melt_data2(df):\n",
    "    melted = pd.melt(df, id_vars=['ZipCode', 'RegionID', 'SizeRank', 'City', 'State', 'Metro', 'CountyName'], var_name='time')\n",
    "    melted['time'] = pd.to_datetime(melted['time'], infer_datetime_format=True)\n",
    "    melted = melted.dropna(subset=['value'])\n",
    "    melted.set_index(\"time\", inplace=True)\n",
    "    return melted\n",
    "\n",
    "melted_data2 = melt_data2(data) \n",
    "melted_data2.head()\n",
    "# Get every time series entry whose zipcode is our top 5 zipcodes.\n",
    "\n",
    "bet_5_zipcodes_df = melted_data2[melted_data2[\"ZipCode\"].isin(list(top_5_cagr[\"ZipCode\"]))]\n",
    "bet_5_zipcodes_df\n",
    "\n",
    "data\n",
    "\n"
   ]
  },
  {
   "cell_type": "markdown",
   "metadata": {},
   "source": [
    "### EDA AND DATA VISUALIZATION."
   ]
  },
  {
   "cell_type": "markdown",
   "metadata": {},
   "source": [
    "What is the trend of the average home prices in our dataset?\n",
    "We will plot the time series of the home prices mean over the years, 1996 - 2018"
   ]
  },
  {
   "cell_type": "markdown",
   "metadata": {},
   "source": [
    "We can check the states where these best 5 zipcodes are found"
   ]
  },
  {
   "cell_type": "code",
   "execution_count": 186,
   "metadata": {},
   "outputs": [
    {
     "data": {
      "image/png": "[encoded data removed]",
      "text/plain": [
       "<Figure size 432x288 with 1 Axes>"
      ]
     },
     "metadata": {
      "needs_background": "light"
     },
     "output_type": "display_data"
    }
   ],
   "source": [
    "state_counts = top_5_cagr[\"State\"].value_counts()\n",
    "\n",
    "# Plot the bar chart\n",
    "state_counts.plot(kind='bar', rot=0, color='skyblue')\n",
    "plt.xlabel('State')\n",
    "plt.ylabel('Count')\n",
    "plt.title('Bar Chart of States')\n",
    "plt.show()"
   ]
  },
  {
   "cell_type": "markdown",
   "metadata": {},
   "source": [
    "Our best zipcodes are found in only three states.           \n",
    "There are two zipcodes from both CA and NY while PA has one zip code. "
   ]
  },
  {
   "cell_type": "markdown",
   "metadata": {},
   "source": [
    "We can plot the time series plot of the best    5 zipcodes. "
   ]
  },
  {
   "cell_type": "code",
   "execution_count": 187,
   "metadata": {},
   "outputs": [
    {
     "data": {
      "text/plain": [
       "array([15201, 94043, 11222, 94301, 11211])"
      ]
     },
     "execution_count": 187,
     "metadata": {},
     "output_type": "execute_result"
    }
   ],
   "source": [
    "bet_5_zipcodes_list = top_5_cagr[\"ZipCode\"].unique()\n",
    "bet_5_zipcodes_list"
   ]
  },
  {
   "cell_type": "code",
   "execution_count": 188,
   "metadata": {},
   "outputs": [
    {
     "data": {
      "image/png": "[encoded data removed]",
      "text/plain": [
       "<Figure size 864x576 with 1 Axes>"
      ]
     },
     "metadata": {
      "needs_background": "light"
     },
     "output_type": "display_data"
    },
    {
     "data": {
      "text/plain": [
       "time\n",
       "1996-04-01     133200.0\n",
       "1996-05-01     132900.0\n",
       "1996-06-01     132500.0\n",
       "1996-07-01     132200.0\n",
       "1996-08-01     131800.0\n",
       "                ...    \n",
       "2017-12-01    1463100.0\n",
       "2018-01-01    1496100.0\n",
       "2018-02-01    1531100.0\n",
       "2018-03-01    1581900.0\n",
       "2018-04-01    1623700.0\n",
       "Name: value, Length: 265, dtype: float64"
      ]
     },
     "execution_count": 188,
     "metadata": {},
     "output_type": "execute_result"
    }
   ],
   "source": [
    "bet_5_zipcodes_list = top_5_cagr[\"ZipCode\"].unique()\n",
    "plt.figure(figsize=(12, 8))\n",
    "\n",
    "for zipcode in bet_5_zipcodes_list:\n",
    "    time_data = bet_5_zipcodes_df[bet_5_zipcodes_df[\"ZipCode\"] == zipcode][\"value\"]\n",
    "    time_data.plot(label=f'ZipCode {zipcode}')\n",
    "time_data\n",
    "plt.title('Home Value Over Time for Top 5 Zip Codes')\n",
    "plt.xlabel('Time')\n",
    "plt.ylabel('Home Value')\n",
    "plt.legend()\n",
    "plt.show()\n",
    "time_data"
   ]
  },
  {
   "cell_type": "markdown",
   "metadata": {},
   "source": [
    "What are the  10 year ROI and the CAGR for the best 5 zipcodes ?\n",
    "Let's plot the ROI against the CAGR for the best 5 zipcodes."
   ]
  },
  {
   "cell_type": "code",
   "execution_count": 189,
   "metadata": {},
   "outputs": [
    {
     "data": {
      "image/png": "[encoded data removed]",
      "text/plain": [
       "<Figure size 720x432 with 1 Axes>"
      ]
     },
     "metadata": {
      "needs_background": "light"
     },
     "output_type": "display_data"
    }
   ],
   "source": [
    "# Create a figure and axis\n",
    "fig, ax = plt.subplots(figsize=(10, 6))\n",
    "\n",
    "# Plot both ROI and CAGR on the same axes\n",
    "top_5_cagr.plot.bar(x=\"ZipCode\", y=[\"roi\", \"cagr\"], ax=ax)\n",
    "\n",
    "# Set labels and title\n",
    "ax.set_xlabel('ZipCode')\n",
    "ax.set_ylabel('Percentage')\n",
    "ax.set_title('ROI and CAGR for Top 5 Zip Codes')\n",
    "\n",
    "# Show the plot\n",
    "plt.show()"
   ]
  },
  {
   "cell_type": "markdown",
   "metadata": {},
   "source": [
    "The property's ROI is significantly high compared to the CAGR. \n"
   ]
  },
  {
   "cell_type": "markdown",
   "metadata": {},
   "source": [
    "Return on Investment (ROI), as a metric, gauges the percentage increase of a property's value relative to its initial investment. It provides a direct and straightforward assessment of profitability. In contrast, Compound Annual Growth Rate (CAGR) calculates the smoothed average annual growth rate over a specific period, offering a more stable representation of a property's overall performance. While ROI captures short-term profitability, CAGR considers the cumulative effect of growth over time, ironing out fluctuations. The notable difference in the metrics' values highlights the importance of understanding both perspectives: ROI for immediate gains and CAGR for a comprehensive view of the property's long-term performance. Investors often use these metrics in tandem to assess the holistic financial picture of their real estate investments."
   ]
  },
  {
   "cell_type": "markdown",
   "metadata": {},
   "source": [
    "#### Distribution of the Average Home Prices   "
   ]
  },
  {
   "cell_type": "code",
   "execution_count": 190,
   "metadata": {},
   "outputs": [
    {
     "data": {
      "text/plain": [
       "<AxesSubplot:ylabel='Density'>"
      ]
     },
     "execution_count": 190,
     "metadata": {},
     "output_type": "execute_result"
    },
    {
     "data": {
      "image/png": "[encoded data removed]",
      "text/plain": [
       "<Figure size 432x288 with 1 Axes>"
      ]
     },
     "metadata": {
      "needs_background": "light"
     },
     "output_type": "display_data"
    }
   ],
   "source": [
    "melted_data.plot(kind=\"kde\", label=f\"The Distribution of Average Home Prices\")"
   ]
  },
  {
   "cell_type": "markdown",
   "metadata": {},
   "source": [
    "The observation of a bimodal distribution in the data implies the existence of two distinct peaks, indicating that the dataset is not unimodal or normally distributed. In the context of ZipCodes, this suggests the presence of two separate groups or subpopulations within the dataset, each characterized by its own set of home values. These distinct peaks may signify variations in housing characteristics, economic factors, or other influential variables that differentiate the two groups. Analyzing and understanding these subpopulations can be crucial for targeted decision-making, as it allows for a more nuanced exploration of factors influencing home values within different segments of the ZipCode."
   ]
  },
  {
   "cell_type": "markdown",
   "metadata": {},
   "source": [
    "#### Top Cities With Highest ROI"
   ]
  },
  {
   "cell_type": "code",
   "execution_count": 191,
   "metadata": {},
   "outputs": [
    {
     "data": {
      "image/png": "[encoded data removed]",
      "text/plain": [
       "<Figure size 720x432 with 1 Axes>"
      ]
     },
     "metadata": {
      "needs_background": "light"
     },
     "output_type": "display_data"
    }
   ],
   "source": [
    "# Plotting\n",
    "plt.figure(figsize=(10, 6))\n",
    "sns.barplot(data= top_5_roi, x='City', y='roi', palette='viridis')\n",
    "\n",
    "# Set plot labels and title\n",
    "plt.ylabel('Return on Investment (ROI)')\n",
    "plt.xlabel('City')\n",
    "plt.title('Top Cities with Highest ROI')\n",
    "\n",
    "# Show the plot\n",
    "plt.show()"
   ]
  },
  {
   "cell_type": "markdown",
   "metadata": {},
   "source": [
    "Pittsburgh is the city with highest ROI of 166.474820, meaning the house prices in that city increase over years as compared  to Newyork which has the least ROI."
   ]
  },
  {
   "cell_type": "markdown",
   "metadata": {},
   "source": [
    "#### Top Zipcodes with highest ROI"
   ]
  },
  {
   "cell_type": "code",
   "execution_count": 192,
   "metadata": {},
   "outputs": [
    {
     "data": {
      "image/png": "[encoded data removed]",
      "text/plain": [
       "<Figure size 720x432 with 1 Axes>"
      ]
     },
     "metadata": {
      "needs_background": "light"
     },
     "output_type": "display_data"
    }
   ],
   "source": [
    "# Plotting\n",
    "plt.figure(figsize=(10, 6))\n",
    "sns.barplot(data = top_5_roi, x='ZipCode', y='roi', palette='viridis')\n",
    "\n",
    "# Set plot labels and title\n",
    "plt.ylabel('Return on Investment (ROI)')\n",
    "plt.xlabel('City')\n",
    "plt.title('Top Zipcodes with Highest ROI')\n",
    "\n",
    "# Show the plot\n",
    "plt.show()"
   ]
  },
  {
   "cell_type": "markdown",
   "metadata": {},
   "source": [
    "15201 has the highest ROI which includes the city of Pittssburgh.\n"
   ]
  },
  {
   "cell_type": "markdown",
   "metadata": {},
   "source": [
    "Distribution of Houses by State"
   ]
  },
  {
   "cell_type": "code",
   "execution_count": 193,
   "metadata": {},
   "outputs": [
    {
     "data": {
      "image/png": "[encoded data removed]",
      "text/plain": [
       "<Figure size 1152x432 with 1 Axes>"
      ]
     },
     "metadata": {
      "needs_background": "light"
     },
     "output_type": "display_data"
    }
   ],
   "source": [
    "# Count the number of houses per state\n",
    "houses_per_state = melted_data2['State'].value_counts()\n",
    "\n",
    "# Plotting\n",
    "plt.figure(figsize=(16, 6))\n",
    "sns.barplot(x=houses_per_state.index, y=houses_per_state.values, palette='viridis')\n",
    "\n",
    "# Set plot labels and title\n",
    "plt.xlabel('State')\n",
    "plt.ylabel('Number of Houses')\n",
    "plt.title('Distribution of Houses by State')\n",
    "\n",
    "# Rotate x-axis labels for better readability \n",
    "plt.xticks(rotation=45)\n",
    "\n",
    "# Show the plot\n",
    "plt.show()"
   ]
  },
  {
   "cell_type": "markdown",
   "metadata": {},
   "source": [
    "California has the highest number of houses overall. Second to CA is Newyork and Texas .               \n",
    "These states have high population densities , which may be the reason for their high number of properties in the state.          \n",
    "It may also be influenced by the size of the state, smaller states have fewer houses.\n"
   ]
  },
  {
   "cell_type": "markdown",
   "metadata": {},
   "source": [
    "### Analysis of Home Prices and Outliers  \n",
    "#### 1. Bar Plot of House Prices per State:  \n",
    "\n",
    "A bar plot has been created to visualize house prices per state based on the melted data."
   ]
  },
  {
   "cell_type": "code",
   "execution_count": 194,
   "metadata": {},
   "outputs": [
    {
     "data": {
      "image/png": "[encoded data removed]",
      "text/plain": [
       "<Figure size 1152x432 with 1 Axes>"
      ]
     },
     "metadata": {
      "needs_background": "light"
     },
     "output_type": "display_data"
    }
   ],
   "source": [
    "plt.figure(figsize=(16,6))\n",
    "sns.barplot(x=melted_data2['State'], y='value', data=melted_data2)\n",
    "plt.title('House Prices per state')\n",
    "plt.show()"
   ]
  },
  {
   "cell_type": "markdown",
   "metadata": {},
   "source": [
    "The higher the bar, the higher the average house price in that particular state. Conversely, a lower bar suggests a lower average home price.The bar corresponding to Washington, D.C. is the tallest one in the plot, suggesting that, on average, houses in Washington, D.C. have higher prices compared to the other states in the dataset.The bar corresponding to OK(Oklahoma),suggesting that, on average, houses in Oklahoma have lower prices compared to the other states in the dataset"
   ]
  },
  {
   "cell_type": "markdown",
   "metadata": {},
   "source": [
    "#### Time Series  Plots\n"
   ]
  },
  {
   "cell_type": "markdown",
   "metadata": {},
   "source": [
    "We can plot the average home prices from April 1996 to APril 2018. "
   ]
  },
  {
   "cell_type": "code",
   "execution_count": 195,
   "metadata": {},
   "outputs": [
    {
     "data": {
      "text/plain": [
       "<AxesSubplot:xlabel='time'>"
      ]
     },
     "execution_count": 195,
     "metadata": {},
     "output_type": "execute_result"
    },
    {
     "data": {
      "image/png": "[encoded data removed]",
      "text/plain": [
       "<Figure size 432x288 with 1 Axes>"
      ]
     },
     "metadata": {
      "needs_background": "light"
     },
     "output_type": "display_data"
    }
   ],
   "source": [
    "melted_data.plot()\n"
   ]
  },
  {
   "cell_type": "markdown",
   "metadata": {},
   "source": [
    "HDuring the period from 1996 to 2007, house prices experienced consistent growth. However, the market witnessed a substantial drop from 2007 to 2011, attributed to the profound impact of the housing market crisis in 2008 in the USA. Following the downturn, a subsequent recovery began, marked by a renewed uptrend in house prices, indicating a gradual stabilization and resilience in the real estate market."
   ]
  },
  {
   "cell_type": "markdown",
   "metadata": {},
   "source": [
    "#### Testing for Trends\n",
    "\n",
    "The time series plot above provides a visual indication of a potential linear trend, suggesting a systematic pattern in the data over time. Linear trends can pose challenges for time series models that assume stationarity, as these trends imply a consistent directional movement. To assess the presence of trends more rigorously, a common approach is to employ rolling statistics. These statistical measures, calculated over moving windows, enable the detection of patterns and trends that may not be immediately evident in the overall time series plot. By testing for trends using rolling statistics, we gain a more granular understanding of the data dynamics, helping us make informed decisions about model assumptions and potential adjustments needed for accurate time series forecasting. "
   ]
  },
  {
   "cell_type": "markdown",
   "metadata": {},
   "source": [
    "We can plot the moving average and moving variance and see if it varies over time. "
   ]
  },
  {
   "cell_type": "code",
   "execution_count": 196,
   "metadata": {},
   "outputs": [
    {
     "data": {
      "text/plain": [
       "<matplotlib.legend.Legend at 0x7f4f62ee3670>"
      ]
     },
     "execution_count": 196,
     "metadata": {},
     "output_type": "execute_result"
    },
    {
     "data": {
      "image/png": "[encoded data removed]",
      "text/plain": [
       "<Figure size 576x432 with 1 Axes>"
      ]
     },
     "metadata": {
      "needs_background": "light"
     },
     "output_type": "display_data"
    }
   ],
   "source": [
    "fig, ax = plt.subplots(figsize=(8,6))\n",
    "rolling_mean = melted_data.rolling(window=12,center=False).mean()\n",
    "rolling_std = melted_data.rolling(window=12,center=False).std()\n",
    "\n",
    "plt.plot(melted_data, color=\"black\", label=\"original\")\n",
    "plt.plot(rolling_mean, color=\"red\", label=\"rolling_mean\")\n",
    "plt.plot(rolling_std, color=\"blue\", label=\"rolling std\")\n",
    "plt.title(\"Original data Vs Rolling Mean Vs Rolling std\")\n",
    "plt.legend()"
   ]
  },
  {
   "cell_type": "markdown",
   "metadata": {},
   "source": [
    "The observation that the rolling mean is not stationary despite the rolling standard deviation being close to constant suggests that the data may exhibit a non-constant mean over time. Stationarity is a crucial assumption for many time series models, and its violation can impact the model's accuracy. To further assess stationarity, additional tests can be employed.      \n",
    "By conducting these tests, we aim to gain more insights into the temporal behavior of the data and ascertain whether transformations or adjustments are needed to meet the stationarity requirement for effective time series modeling."
   ]
  },
  {
   "cell_type": "code",
   "execution_count": 197,
   "metadata": {},
   "outputs": [
    {
     "name": "stdout",
     "output_type": "stream",
     "text": [
      "Test Statistic                  -1.580701\n",
      "p-value                          0.493280\n",
      "#Lags Used                      11.000000\n",
      "Number of Observations Used    253.000000\n",
      "Critical Value (1%)             -3.456464\n",
      "Critical Value (5%)             -2.873033\n",
      "Critical Value (10%)            -2.572895\n",
      "dtype: float64\n"
     ]
    }
   ],
   "source": [
    "dftest = adfuller(melted_data)\n",
    "dfoutput = pd.Series(dftest[0:4], index=['Test Statistic', 'p-value', '#Lags Used', 'Number of Observations Used'])\n",
    "dfoutput = pd.Series(dftest[0:4], index=['Test Statistic', 'p-value', '#Lags Used', 'Number of Observations Used'])\n",
    "for key,value in dftest[4].items():\n",
    "    dfoutput['Critical Value (%s)'%key] = value\n",
    "print(dfoutput)"
   ]
  },
  {
   "cell_type": "markdown",
   "metadata": {},
   "source": [
    "The comparison of the test statistic with the critical value provides insights into the stationarity of the data. When the test statistic is less than the critical value, it indicates that the data fails to exhibit stationarity, and as a result, we fail to reject the null hypothesis. The null hypothesis typically posits that the data is non-stationary. In practical terms, this implies that the time series may possess trends, cycles, or other patterns that render it non-constant over time. Understanding the stationarity of the data is crucial for selecting appropriate time series models, as many models assume a stationary time series for accurate predictions. Further analysis and potential transformations may be necessary to address non-stationarity and enhance the reliability of time series modeling."
   ]
  },
  {
   "cell_type": "markdown",
   "metadata": {},
   "source": [
    "# DATA PROCESSING "
   ]
  },
  {
   "cell_type": "markdown",
   "metadata": {},
   "source": [
    "#### Removing the Trend.\n",
    "\n",
    "\n",
    "We will try and make our time series data as stationary as possible. \n"
   ]
  },
  {
   "cell_type": "code",
   "execution_count": 198,
   "metadata": {},
   "outputs": [
    {
     "data": {
      "text/plain": [
       "[<matplotlib.lines.Line2D at 0x7f4f5b16f8e0>]"
      ]
     },
     "execution_count": 198,
     "metadata": {},
     "output_type": "execute_result"
    },
    {
     "data": {
      "image/png": "[encoded data removed]",
      "text/plain": [
       "<Figure size 432x288 with 1 Axes>"
      ]
     },
     "metadata": {
      "needs_background": "light"
     },
     "output_type": "display_data"
    }
   ],
   "source": [
    "\n",
    "without_ewm = melted_data - melted_data.ewm(halflife=2).mean()\n",
    "diffrenced = without_ewm.diff().dropna()\n",
    " \n",
    "\n",
    "# fig, ax = plt.subplots(figsize=(8,6))\n",
    "rolling_mean = diffrenced.rolling(window=12,center=False).mean()\n",
    "rolling_std = diffrenced.rolling(window=12,center=False).std()\n",
    "\n",
    "plt.plot(melted_data, color=\"black\", label=\"Original\")\n",
    "plt.plot(rolling_mean, color=\"blue\", label=\"Rolling Mean\")\n",
    "plt.plot(rolling_std, color=\"red\", label=\"Rolling std\")\n",
    "\n",
    "\n"
   ]
  },
  {
   "cell_type": "code",
   "execution_count": 199,
   "metadata": {},
   "outputs": [
    {
     "name": "stdout",
     "output_type": "stream",
     "text": [
      "Test Statistic                  -3.107999\n",
      "p-value                          0.025967\n",
      "#Lags Used                      10.000000\n",
      "Number of Observations Used    253.000000\n",
      "Critical Value (1%)             -3.456464\n",
      "Critical Value (5%)             -2.873033\n",
      "Critical Value (10%)            -2.572895\n",
      "dtype: float64\n"
     ]
    }
   ],
   "source": [
    "dftest = adfuller(diffrenced)\n",
    "dfoutput = pd.Series(dftest[0:4], index=['Test Statistic', 'p-value', '#Lags Used', 'Number of Observations Used'])\n",
    "dfoutput = pd.Series(dftest[0:4], index=['Test Statistic', 'p-value', '#Lags Used', 'Number of Observations Used'])\n",
    "for key,value in dftest[4].items():\n",
    "    dfoutput['Critical Value (%s)'%key] = value\n",
    "print(dfoutput)"
   ]
  },
  {
   "cell_type": "markdown",
   "metadata": {},
   "source": [
    "After differencing the data, observing that it is stationary at a 5% significance level implies that the transformation has effectively removed trends or patterns that rendered the original time series non-stationary. Differencing is a common technique used to stabilize the mean of a time series by subtracting the previous observation from the current one. Achieving stationarity at a 5% significance level means that the transformed data satisfies the criteria for constant mean and variance, enabling the application of various time series models. This result is significant as it validates the efficacy of the differencing process in making the data suitable for modeling, enhancing the accuracy of forecasting and analysis."
   ]
  },
  {
   "cell_type": "markdown",
   "metadata": {},
   "source": [
    "### AutoCorrelation Function\n",
    "The autocorrelation function is a function that represents autocorrelation of a time series as a function of the time lag. \n",
    "ACF indicates how similar a value is within a given time series and the previous value. (OR) It measures the degree of the similarity between a given time series and the lagged version of that time series at the various intervals we observed"
   ]
  },
  {
   "cell_type": "code",
   "execution_count": 200,
   "metadata": {},
   "outputs": [
    {
     "data": {
      "image/png": "[encoded data removed]",
      "text/plain": [
       "<Figure size 432x288 with 1 Axes>"
      ]
     },
     "execution_count": 200,
     "metadata": {},
     "output_type": "execute_result"
    },
    {
     "data": {
      "image/png": "[encoded data removed]",
      "text/plain": [
       "<Figure size 432x288 with 1 Axes>"
      ]
     },
     "metadata": {
      "needs_background": "light"
     },
     "output_type": "display_data"
    }
   ],
   "source": [
    "plot_acf(diffrenced)"
   ]
  },
  {
   "cell_type": "markdown",
   "metadata": {},
   "source": [
    "### Partial Autocorrelation Function\n",
    "Partial Autocorrelation Function (or PACF) gives the partial correlation of a time series with its own lagged values, controlling for the values of the time series at all shorter lags (unlike the autocorrelation function, which does not control for other lags)."
   ]
  },
  {
   "cell_type": "code",
   "execution_count": 201,
   "metadata": {},
   "outputs": [
    {
     "data": {
      "image/png": "[encoded data removed]",
      "text/plain": [
       "<Figure size 432x288 with 1 Axes>"
      ]
     },
     "execution_count": 201,
     "metadata": {},
     "output_type": "execute_result"
    },
    {
     "data": {
      "image/png": "[encoded data removed]",
      "text/plain": [
       "<Figure size 432x288 with 1 Axes>"
      ]
     },
     "metadata": {
      "needs_background": "light"
     },
     "output_type": "display_data"
    }
   ],
   "source": [
    "plot_pacf(diffrenced)"
   ]
  },
  {
   "cell_type": "markdown",
   "metadata": {},
   "source": [
    "The observation that the high correlation ends at lag 2 in both the autocorrelation function (ACF) and partial autocorrelation function (PACF) is indicative of the potential order of an autoregressive model. The gradually decreasing ACF and the sudden drop in the PACF after lag 2 suggest that the time series may be best represented by an Autoregressive Model of order 2, denoted as AR(2). This means that the current value of the time series is linearly dependent on the two most recent observations. The absence of correlation beyond two lags suggests that the impact of earlier observations diminishes significantly, providing valuable information for model selection and forecasting accuracy. Understanding the lag structure is essential for choosing appropriate models and capturing the underlying patterns in the time series data."
   ]
  },
  {
   "cell_type": "markdown",
   "metadata": {},
   "source": [
    "### Train Test Splitting the Data\n",
    "When evaluating a model, it's important to simulate how the model would perform on unseen data.            \n",
    "Train-test splitting helps achieve this by creating a clear distinction between the data used for training and the data used for testing."
   ]
  },
  {
   "cell_type": "code",
   "execution_count": 202,
   "metadata": {},
   "outputs": [
    {
     "name": "stdout",
     "output_type": "stream",
     "text": [
      "Training set length: 211\n",
      "Test set length: 53\n"
     ]
    }
   ],
   "source": [
    "# Calculate the index to split the DataFrame\n",
    "train_size = int(len(diffrenced) * 0.8)\n",
    "\n",
    "# Split the DataFrame into training and test sets\n",
    "train_set = diffrenced.iloc[:train_size]\n",
    "test_set = diffrenced.iloc[train_size:]\n",
    "\n",
    "# Print the lengths of the training and test sets\n",
    "print(f\"Training set length: {len(train_set)}\")\n",
    "print(f\"Test set length: {len(test_set)}\")"
   ]
  },
  {
   "cell_type": "markdown",
   "metadata": {},
   "source": [
    "The validation approach employed here is a train-test split. The dataset (diffrenced) is divided into two subsets: a training set (train_set) and a test set (test_set). The purpose of this division is to train the model on a portion of the data and evaluate its performance on a separate, unseen subset."
   ]
  },
  {
   "cell_type": "markdown",
   "metadata": {},
   "source": [
    "# MODELLING"
   ]
  },
  {
   "cell_type": "markdown",
   "metadata": {},
   "source": [
    "### AUTOREGRESSIVE MODEL"
   ]
  },
  {
   "cell_type": "markdown",
   "metadata": {},
   "source": [
    "This is when a value from a times series is regressed on previous values from the same series. "
   ]
  },
  {
   "cell_type": "code",
   "execution_count": 203,
   "metadata": {},
   "outputs": [
    {
     "name": "stdout",
     "output_type": "stream",
     "text": [
      "                               SARIMAX Results                                \n",
      "==============================================================================\n",
      "Dep. Variable:                  value   No. Observations:                  211\n",
      "Model:                 ARIMA(2, 0, 0)   Log Likelihood               -1255.879\n",
      "Date:                Fri, 19 Jan 2024   AIC                           2519.757\n",
      "Time:                        15:58:35   BIC                           2533.165\n",
      "Sample:                    05-01-1996   HQIC                          2525.177\n",
      "                         - 11-01-2013                                         \n",
      "Covariance Type:                  opg                                         \n",
      "==============================================================================\n",
      "                 coef    std err          z      P>|z|      [0.025      0.975]\n",
      "------------------------------------------------------------------------------\n",
      "const         15.0816     45.006      0.335      0.738     -73.129     103.292\n",
      "ar.L1          1.2572      0.039     32.532      0.000       1.181       1.333\n",
      "ar.L2         -0.4029      0.034    -11.969      0.000      -0.469      -0.337\n",
      "sigma2      8576.0070    469.620     18.262      0.000    7655.569    9496.445\n",
      "===================================================================================\n",
      "Ljung-Box (L1) (Q):                   3.27   Jarque-Bera (JB):              2030.74\n",
      "Prob(Q):                              0.07   Prob(JB):                         0.00\n",
      "Heteroskedasticity (H):              25.59   Skew:                            -0.94\n",
      "Prob(H) (two-sided):                  0.00   Kurtosis:                        18.08\n",
      "===================================================================================\n",
      "\n",
      "Warnings:\n",
      "[1] Covariance matrix calculated using the outer product of gradients (complex-step).\n",
      "107.57416964805458\n",
      "77.74728862063532\n"
     ]
    }
   ],
   "source": [
    "model_arma = ARIMA(train_set, order=(2,0,0))\n",
    "res_arma = model_arma.fit()\n",
    "predicted_values = res_arma.predict(start=test_set.index[0], end=test_set.index[-1])\n",
    "print(res_arma.summary())\n",
    "rmse = sqrt(mean_squared_error(test_set, predicted_values))\n",
    "mae =  mean_absolute_error(test_set, predicted_values)\n",
    "print(rmse)\n",
    "print(mae)\n",
    "\n",
    "# test_set.plot()\n",
    "# predicted_values.plot()"
   ]
  },
  {
   "cell_type": "markdown",
   "metadata": {},
   "source": [
    "This model gives us a RMSE of 102.09206.   and mae of 73.32           \n",
    "\n",
    "On average, the model's predictions deviate by around 102 units from the actual values. While these metrics provide a quantitative assessment, a crucial consideration emerges when acknowledging that the model parameters were derived from the Partial Autocorrelation Function (PACF) and Autocorrelation Function (ACF) under the assumption of an AutoRegressive (AR) model. The lingering question arises: What if this assumption is incorrect? If the time series data exhibits features like seasonality or trend that are not adequately captured by the AR model, the model's efficacy may be compromised. This underscores the importance of scrutinizing model assumptions and exploring alternative approaches to ensure the selected model aligns accurately with the underlying dynamics of the data. \n",
    "\n",
    "Below we plot the forecasts by  the model. "
   ]
  },
  {
   "cell_type": "code",
   "execution_count": 204,
   "metadata": {},
   "outputs": [
    {
     "name": "stdout",
     "output_type": "stream",
     "text": [
      "                               SARIMAX Results                                \n",
      "==============================================================================\n",
      "Dep. Variable:                  value   No. Observations:                  264\n",
      "Model:                 ARIMA(2, 0, 0)   Log Likelihood               -1584.408\n",
      "Date:                Fri, 19 Jan 2024   AIC                           3176.816\n",
      "Time:                        15:58:36   BIC                           3191.120\n",
      "Sample:                    05-01-1996   HQIC                          3182.564\n",
      "                         - 04-01-2018                                         \n",
      "Covariance Type:                  opg                                         \n",
      "==============================================================================\n",
      "                 coef    std err          z      P>|z|      [0.025      0.975]\n",
      "------------------------------------------------------------------------------\n",
      "const         16.7929     38.634      0.435      0.664     -58.929      92.514\n",
      "ar.L1          1.1726      0.036     32.218      0.000       1.101       1.244\n",
      "ar.L2         -0.3406      0.034     -9.956      0.000      -0.408      -0.274\n",
      "sigma2      9493.4598    478.461     19.842      0.000    8555.693    1.04e+04\n",
      "===================================================================================\n",
      "Ljung-Box (L1) (Q):                   1.86   Jarque-Bera (JB):              2257.63\n",
      "Prob(Q):                              0.17   Prob(JB):                         0.00\n",
      "Heteroskedasticity (H):               7.18   Skew:                            -1.45\n",
      "Prob(H) (two-sided):                  0.00   Kurtosis:                        17.03\n",
      "===================================================================================\n",
      "\n",
      "Warnings:\n",
      "[1] Covariance matrix calculated using the outer product of gradients (complex-step).\n"
     ]
    },
    {
     "data": {
      "image/png": "[encoded data removed]",
      "text/plain": [
       "<Figure size 864x432 with 1 Axes>"
      ]
     },
     "metadata": {
      "needs_background": "light"
     },
     "output_type": "display_data"
    },
    {
     "data": {
      "text/html": [
       "<div>\n",
       "<style scoped>\n",
       "    .dataframe tbody tr th:only-of-type {\n",
       "        vertical-align: middle;\n",
       "    }\n",
       "\n",
       "    .dataframe tbody tr th {\n",
       "        vertical-align: top;\n",
       "    }\n",
       "\n",
       "    .dataframe thead th {\n",
       "        text-align: right;\n",
       "    }\n",
       "</style>\n",
       "<table border=\"1\" class=\"dataframe\">\n",
       "  <thead>\n",
       "    <tr style=\"text-align: right;\">\n",
       "      <th></th>\n",
       "      <th>lower value</th>\n",
       "      <th>upper value</th>\n",
       "    </tr>\n",
       "  </thead>\n",
       "  <tbody>\n",
       "    <tr>\n",
       "      <th>count</th>\n",
       "      <td>120.000000</td>\n",
       "      <td>120.000000</td>\n",
       "    </tr>\n",
       "    <tr>\n",
       "      <th>mean</th>\n",
       "      <td>-412.784349</td>\n",
       "      <td>417.221140</td>\n",
       "    </tr>\n",
       "    <tr>\n",
       "      <th>std</th>\n",
       "      <td>40.090924</td>\n",
       "      <td>81.285789</td>\n",
       "    </tr>\n",
       "    <tr>\n",
       "      <th>min</th>\n",
       "      <td>-633.078154</td>\n",
       "      <td>-149.328810</td>\n",
       "    </tr>\n",
       "    <tr>\n",
       "      <th>25%</th>\n",
       "      <td>-402.191996</td>\n",
       "      <td>435.772119</td>\n",
       "    </tr>\n",
       "    <tr>\n",
       "      <th>50%</th>\n",
       "      <td>-402.189160</td>\n",
       "      <td>435.774955</td>\n",
       "    </tr>\n",
       "    <tr>\n",
       "      <th>75%</th>\n",
       "      <td>-402.189160</td>\n",
       "      <td>435.774955</td>\n",
       "    </tr>\n",
       "    <tr>\n",
       "      <th>max</th>\n",
       "      <td>-402.189160</td>\n",
       "      <td>435.774955</td>\n",
       "    </tr>\n",
       "  </tbody>\n",
       "</table>\n",
       "</div>"
      ],
      "text/plain": [
       "       lower value  upper value\n",
       "count   120.000000   120.000000\n",
       "mean   -412.784349   417.221140\n",
       "std      40.090924    81.285789\n",
       "min    -633.078154  -149.328810\n",
       "25%    -402.191996   435.772119\n",
       "50%    -402.189160   435.774955\n",
       "75%    -402.189160   435.774955\n",
       "max    -402.189160   435.774955"
      ]
     },
     "execution_count": 204,
     "metadata": {},
     "output_type": "execute_result"
    }
   ],
   "source": [
    "# instantiate and fit the moded\n",
    "model_arma = ARIMA(diffrenced, order=(2, 0, 0))\n",
    "res_arma = model_arma.fit()\n",
    "\n",
    "# Get forecast for the next 120 steps\n",
    "n_steps = 120\n",
    "predicted_values = res_arma.get_forecast(steps=n_steps)\n",
    "\n",
    "# Print summary\n",
    "print(res_arma.summary())\n",
    "\n",
    "# Access the predicted values\n",
    "predicted_mean = predicted_values.predicted_mean\n",
    "predicted_ci = predicted_values.conf_int()\n",
    "\n",
    "# create the figure\n",
    "fig = plt.figure(figsize=(12,6))\n",
    "# Plot the differenced time series\n",
    "plt.plot(diffrenced, label='Observed', color='blue')\n",
    "\n",
    "# Plot the predicted mean\n",
    "plt.plot(predicted_mean, label='Predicted', color='orange')\n",
    "\n",
    "# Fill the area between the upper and lower confidence intervals with a color\n",
    "plt.fill_between(predicted_ci.index, predicted_ci.iloc[:, 0], predicted_ci.iloc[:, 1], color='lightgray', alpha=0.3, label='95% CI')\n",
    "\n",
    "# Add labels and legend\n",
    "plt.xlabel('Time')\n",
    "plt.ylabel('Differenced Series')\n",
    "plt.title('ARIMA Predictions with Confidence Intervals')\n",
    "plt.legend()\n",
    "\n",
    "# Show the plot\n",
    "plt.show()\n",
    "\n",
    "predicted_ci.describe()"
   ]
  },
  {
   "cell_type": "markdown",
   "metadata": {},
   "source": [
    "The mean of approximately -412.78 within the confidence intervals suggests an overall downward trend in the forecasted values. This value serves as a central estimate, indicating that, on average, the forecasted property prices are expected to decrease. The negative sign points towards a decline in values, possibly reflecting market trends or external factors influencing the real estate market. It's crucial to consider this mean in conjunction with the broader context of economic indicators and real estate dynamics.\n",
    "\n",
    "The standard deviation of 40.09 within the confidence intervals implies a significant level of variability in the forecasted values. This variation signifies the inherent uncertainty in predicting future property prices. A higher standard deviation suggests a wider range of potential outcomes, highlighting the complexity and unpredictability of market dynamics. Investors and stakeholders should be mindful of this variability when making decisions, as the real estate market can be influenced by multifaceted factors that may not be fully captured by the model. Additionally, the wide range from a minimum of -633.08 to a maximum of 435.77 underlines the diverse set of potential scenarios, emphasizing the need for a comprehensive risk assessment in interpreting the forecasted values."
   ]
  },
  {
   "cell_type": "markdown",
   "metadata": {},
   "source": [
    "The observation of a seasonal trend in our plot prompts the consideration of a SARIMA (Seasonal AutoRegressive Integrated Moving Average) model to effectively address and capture the seasonality inherent in the data. SARIMA is an extension of the ARIMA model designed specifically to handle time series exhibiting recurring patterns over certain intervals. By incorporating additional parameters to account for the seasonal component, SARIMA enhances the model's capability to capture fluctuations and variations that occur at regular intervals within the dataset. This approach proves particularly valuable when dealing with data influenced by external factors that follow a predictable seasonal pattern. Utilizing SARIMA enables a more accurate representation of the underlying seasonality in the time series, ultimately leading to improved forecasting and a more comprehensive understanding of the data's temporal dynamics.\n"
   ]
  },
  {
   "cell_type": "markdown",
   "metadata": {},
   "source": [
    "### SARIMAX MODEL"
   ]
  },
  {
   "cell_type": "markdown",
   "metadata": {},
   "source": [
    "SARIMAX, standing for Seasonal AutoRegressive Integrated Moving Average with eXogenous factors, represents a sophisticated advancement of the ARIMA model designed to address the complexities of time series data influenced by external factors. While the core ARIMA model captures internal temporal patterns through parameters governing autoregressive, differencing, and moving average components, SARIMAX goes a step further by integrating exogenous variables. These external factors can include variables such as economic indicators, external events, or any other relevant information that might impact the observed time series. By considering these additional influences, SARIMAX enhances its ability to model and forecast real-world time series scenarios, offering a versatile approach to understanding and predicting complex temporal dynamics affected by both internal and external factors."
   ]
  },
  {
   "cell_type": "code",
   "execution_count": 205,
   "metadata": {},
   "outputs": [
    {
     "name": "stdout",
     "output_type": "stream",
     "text": [
      "Root Mean Squared Error (RMSE): 107.57416964805458\n",
      "Mean Absolute Error (MAE): 78.23511641003185\n"
     ]
    }
   ],
   "source": [
    "# seasonal parameters\n",
    "order = (2, 0, 0)\n",
    "seasonal_order = (1, 1, 1, 12)\n",
    "\n",
    "# Create and fit the SARIMAX model\n",
    "sarimax_model = SARIMAX(train_set, order=order, seasonal_order=seasonal_order, enforce_stationarity=False, enforce_invertibility=False)\n",
    "sarimax_fit = sarimax_model.fit()\n",
    "\n",
    "# Forecast future values\n",
    "forecast = sarimax_fit.get_forecast(steps=len(test_set))\n",
    "\n",
    "# Extract predicted values and true values\n",
    "predicted_values = forecast.predicted_mean\n",
    "true_values = test_set\n",
    "\n",
    "# Calculate RMSE\n",
    "rrmse = sqrt(mean_squared_error(test_set, predicted_values))\n",
    "mae =  mean_absolute_error(test_set, predicted_values)\n",
    "print(f\"Root Mean Squared Error (RMSE): {rmse}\")\n",
    "print(f\"Mean Absolute Error (MAE): {mae}\")\n"
   ]
  },
  {
   "cell_type": "markdown",
   "metadata": {},
   "source": [
    "The model has a RMSE of 108.76 and a MAE of 80.61.  \n",
    "On average, the model's predictions deviate from the actual values by approximately 108.76 units\n",
    "The absolute difference between the model's predictions and the actual values is approximately 80.61 unit\n",
    "\n",
    "\n",
    "How could our data perform with  advanced machine learning algorithms? We try Facebook Prophet. "
   ]
  },
  {
   "cell_type": "code",
   "execution_count": 206,
   "metadata": {},
   "outputs": [
    {
     "data": {
      "image/png": "[encoded data removed]",
      "text/plain": [
       "<Figure size 864x432 with 1 Axes>"
      ]
     },
     "metadata": {
      "needs_background": "light"
     },
     "output_type": "display_data"
    },
    {
     "data": {
      "text/html": [
       "<div>\n",
       "<style scoped>\n",
       "    .dataframe tbody tr th:only-of-type {\n",
       "        vertical-align: middle;\n",
       "    }\n",
       "\n",
       "    .dataframe tbody tr th {\n",
       "        vertical-align: top;\n",
       "    }\n",
       "\n",
       "    .dataframe thead th {\n",
       "        text-align: right;\n",
       "    }\n",
       "</style>\n",
       "<table border=\"1\" class=\"dataframe\">\n",
       "  <thead>\n",
       "    <tr style=\"text-align: right;\">\n",
       "      <th></th>\n",
       "      <th>lower value</th>\n",
       "      <th>upper value</th>\n",
       "    </tr>\n",
       "  </thead>\n",
       "  <tbody>\n",
       "    <tr>\n",
       "      <th>count</th>\n",
       "      <td>53.000000</td>\n",
       "      <td>53.000000</td>\n",
       "    </tr>\n",
       "    <tr>\n",
       "      <th>mean</th>\n",
       "      <td>-468.176928</td>\n",
       "      <td>419.464886</td>\n",
       "    </tr>\n",
       "    <tr>\n",
       "      <th>std</th>\n",
       "      <td>60.505631</td>\n",
       "      <td>123.163237</td>\n",
       "    </tr>\n",
       "    <tr>\n",
       "      <th>min</th>\n",
       "      <td>-669.629145</td>\n",
       "      <td>-121.474947</td>\n",
       "    </tr>\n",
       "    <tr>\n",
       "      <th>25%</th>\n",
       "      <td>-467.924193</td>\n",
       "      <td>439.883348</td>\n",
       "    </tr>\n",
       "    <tr>\n",
       "      <th>50%</th>\n",
       "      <td>-446.797044</td>\n",
       "      <td>460.159904</td>\n",
       "    </tr>\n",
       "    <tr>\n",
       "      <th>75%</th>\n",
       "      <td>-432.547251</td>\n",
       "      <td>475.150311</td>\n",
       "    </tr>\n",
       "    <tr>\n",
       "      <th>max</th>\n",
       "      <td>-421.668554</td>\n",
       "      <td>486.039802</td>\n",
       "    </tr>\n",
       "  </tbody>\n",
       "</table>\n",
       "</div>"
      ],
      "text/plain": [
       "       lower value  upper value\n",
       "count    53.000000    53.000000\n",
       "mean   -468.176928   419.464886\n",
       "std      60.505631   123.163237\n",
       "min    -669.629145  -121.474947\n",
       "25%    -467.924193   439.883348\n",
       "50%    -446.797044   460.159904\n",
       "75%    -432.547251   475.150311\n",
       "max    -421.668554   486.039802"
      ]
     },
     "execution_count": 206,
     "metadata": {},
     "output_type": "execute_result"
    }
   ],
   "source": [
    "\n",
    "\n",
    "# SARIMAX Model\n",
    "order = (2, 0, 0)\n",
    "seasonal_order = (1, 1, 1, 12)\n",
    "\n",
    "# Create and fit the SARIMAX model\n",
    "sarimax_model = SARIMAX(diffrenced, order=order, seasonal_order=seasonal_order, enforce_stationarity=False, enforce_invertibility=False)\n",
    "sarimax_fit = sarimax_model.fit()\n",
    "\n",
    "# Forecast future values\n",
    "forecast = sarimax_fit.get_forecast(steps=len(test_set))\n",
    "\n",
    "# Extract predicted values and true values\n",
    "predicted_values_sarimax = forecast.predicted_mean\n",
    "predicted_ci = forecast.conf_int()\n",
    "\n",
    "true_values = test_set\n",
    "\n",
    "\n",
    "\n",
    "\n",
    "# Plot the SARIMAX predictions\n",
    "plt.figure(figsize=(12, 6))\n",
    "plt.plot(test_set, label='Observed (SARIMAX)', color='blue')\n",
    "plt.plot(predicted_values_sarimax, label='Predicted (SARIMAX)', color='orange')\n",
    "# plt.fill_between(forecast.index, forecast.conf_int().iloc[:, 0], forecast.conf_int().iloc[:, 1], color='lightgray', alpha=0.3, label='95% CI (SARIMAX)')\n",
    "plt.fill_between(predicted_ci.index, predicted_ci.iloc[:, 0], predicted_ci.iloc[:, 1], color='lightgray', alpha=0.3, label='95% CI')\n",
    "\n",
    "plt.xlabel('Time')\n",
    "plt.ylabel('Series')\n",
    "plt.title('SARIMAX Predictions with Confidence Intervals')\n",
    "plt.legend()\n",
    "plt.show()\n",
    "predicted_ci.describe()"
   ]
  },
  {
   "cell_type": "markdown",
   "metadata": {},
   "source": [
    "The provided lower and upper values represent the range within which the forecasted property values are likely to fall with a 95% confidence level. With a count of 53 observations, this range is derived from the statistical analysis of the forecasted values. The mean of approximately -468.18 serves as a central estimate, suggesting an overall downward trend in the forecasted property values. This mean is indicative of a potential decrease in property prices, while the negative sign emphasizes a decline. The standard deviation of 60.51 reflects a notable variability in the forecasted values, indicating uncertainty in predicting future property prices. A higher standard deviation of 123.16 implies a wider range of potential outcomes, underscoring the complexity and unpredictability of market dynamics. The provided percentiles (25%, 50%, 75%) offer insights into the distribution of values within the confidence intervals, with the range from -669.63 to 486.04 representing diverse scenarios. Investors and stakeholders should carefully consider this range and associated statistics for a comprehensive understanding of the potential fluctuations in property values."
   ]
  },
  {
   "cell_type": "markdown",
   "metadata": {},
   "source": [
    "How could our data perform with  advanced machine learning algorithms? We try Facebook Prophet. "
   ]
  },
  {
   "cell_type": "markdown",
   "metadata": {},
   "source": [
    "### FACEBOOK PROPHET"
   ]
  },
  {
   "cell_type": "markdown",
   "metadata": {},
   "source": [
    "\n",
    "Prophet is an open-source forecasting tool developed by Facebook. It is designed to handle time series data and is particularly effective for datasets that exhibit strong seasonal patterns, holidays, and other recurring events. Prophet is capable of producing accurate forecasts while also providing users with an intuitive and user-friendly interface"
   ]
  },
  {
   "cell_type": "markdown",
   "metadata": {},
   "source": [
    "We will first train the model with the differenced data to see how it compares with the previous models."
   ]
  },
  {
   "cell_type": "code",
   "execution_count": 207,
   "metadata": {},
   "outputs": [
    {
     "name": "stderr",
     "output_type": "stream",
     "text": [
      "15:58:37 - cmdstanpy - INFO - Chain [1] start processing\n",
      "15:58:37 - cmdstanpy - INFO - Chain [1] done processing\n"
     ]
    },
    {
     "name": "stdout",
     "output_type": "stream",
     "text": [
      "Root Mean Squared Error (RMSE): 119.07159697517896\n",
      "Root Mean Squared Error (RMSE): 89.51985401256634\n"
     ]
    }
   ],
   "source": [
    "# Use the train set for fitting the model\n",
    "train_data = train_set.reset_index()\n",
    "train_data.columns = ['ds', 'y']\n",
    "\n",
    "# Initialize and fit the Prophet model\n",
    "prophet_model = Prophet()\n",
    "prophet_model.fit(train_data)\n",
    "\n",
    "# Make a dataframe containing future dates for prediction\n",
    "predict_df = prophet_model.make_future_dataframe(periods=len(test_set), freq='M', include_history=False)\n",
    "\n",
    "# Obtain predictions for the observed period\n",
    "predicted_values = prophet_model.predict(predict_df)\n",
    "\n",
    "# Extract true values corresponding to the test set length\n",
    "true_values = test_set.reset_index()\n",
    "\n",
    "# Calculate RMSE\n",
    "rmse = sqrt(mean_squared_error(true_values['value'], predicted_values[\"yhat\"]))\n",
    "mae = mean_absolute_error(true_values['value'], predicted_values[\"yhat\"])\n",
    "\n",
    "print(f\"Root Mean Squared Error (RMSE): {rmse}\")\n",
    "print(f\"Root Mean Squared Error (RMSE): {mae}\")\n"
   ]
  },
  {
   "cell_type": "markdown",
   "metadata": {},
   "source": [
    "The model has an RMSE of 113.247 and an mae of 85.\n",
    "This is not bad compared to the baseline model rmse, we had, 102\n",
    "However,  as noted before,  this is a powerful algorithm that works very well with raw data, handling outliers and automatic seasonality detection. \n",
    "We will therefore go ahead and try the model on raw data and try and plot the forecasts"
   ]
  },
  {
   "cell_type": "code",
   "execution_count": 219,
   "metadata": {},
   "outputs": [
    {
     "name": "stderr",
     "output_type": "stream",
     "text": [
      "16:03:33 - cmdstanpy - INFO - Chain [1] start processing\n",
      "16:03:33 - cmdstanpy - INFO - Chain [1] done processing\n"
     ]
    },
    {
     "data": {
      "image/png": "[encoded data removed]",
      "text/plain": [
       "<Figure size 864x432 with 1 Axes>"
      ]
     },
     "metadata": {
      "needs_background": "light"
     },
     "output_type": "display_data"
    }
   ],
   "source": [
    "train_data = melted_data[[\"value\"]].reset_index()\n",
    "train_data.columns = ['ds', 'y']\n",
    "prophet_model = Prophet()\n",
    "prophet_model.add_seasonality(name='yearly', period=365.25, fourier_order=10, mode='additive')\n",
    "prophet_model.fit(train_data)\n",
    "predifirect_df = prophet_model.make_future_dataframe(periods=120, freq='M', include_history=False)\n",
    "forecast = prophet_model.predict(predict_df)\n",
    "\n",
    "predicted_values = forecast[['ds', 'yhat']]\n",
    "confidence_intervals = forecast[['ds', 'yhat_lower', 'yhat_upper']]\n",
    "predicted_values.set_index(predicted_values[\"ds\"], inplace=True)\n",
    "predicted_values[\"yhat\"]\n",
    "plt.figure(figsize=(12, 6))\n",
    "plt.plot(melted_data, label='Observed', color='blue')\n",
    "plt.plot(predicted_values[\"yhat\"], label='Predicted', color='orange')\n",
    "plt.fill_between(confidence_intervals['ds'], confidence_intervals['yhat_lower'], confidence_intervals['yhat_upper'], color='lightgray', alpha=0.3, label='95% CI')\n",
    "\n",
    "plt.xlabel('Time')\n",
    "plt.ylabel('House Prices')\n",
    "plt.title('Prophet Predictions with Confidence Intervals')\n",
    "plt.legend()\n",
    "plt.show()\n",
    "\n",
    "# Display summary statistics of confidence intervals"
   ]
  },
  {
   "cell_type": "code",
   "execution_count": 209,
   "metadata": {},
   "outputs": [
    {
     "data": {
      "text/plain": [
       "29.684127837899215"
      ]
     },
     "execution_count": 209,
     "metadata": {},
     "output_type": "execute_result"
    }
   ],
   "source": [
    "\n",
    "# Calculate ROI using the values from the last row\n",
    "last_row = predicted_values.tail(1)\n",
    "predicted_ROI = (last_row['yhat'].values[0] - predicted_values.iloc[0]['yhat']) / predicted_values.iloc[0]['yhat'] * 100\n",
    "predicted_ROI\n"
   ]
  },
  {
   "cell_type": "markdown",
   "metadata": {},
   "source": [
    "# EVALUATION"
   ]
  },
  {
   "cell_type": "markdown",
   "metadata": {},
   "source": [
    "Root Mean Squared Error (RMSE) is a common metric for evaluating the accuracy of  models. It provides a measure of the average magnitude of the errors between predicted and actual values, and it is particularly sensitive to large errors. Lower RMSE values indicate better model performance, as it means the model's predictions are closer to the actual values.        \n",
    "Mean Absolute Error on the other hand takes the absolute values or the difference between the predicted and the actual figures.  MAE is generally better at handling outliers  and is easily interpretable. \n",
    "\n"
   ]
  },
  {
   "cell_type": "code",
   "execution_count": 210,
   "metadata": {},
   "outputs": [
    {
     "data": {
      "text/html": [
       "<div>\n",
       "<style scoped>\n",
       "    .dataframe tbody tr th:only-of-type {\n",
       "        vertical-align: middle;\n",
       "    }\n",
       "\n",
       "    .dataframe tbody tr th {\n",
       "        vertical-align: top;\n",
       "    }\n",
       "\n",
       "    .dataframe thead th {\n",
       "        text-align: right;\n",
       "    }\n",
       "</style>\n",
       "<table border=\"1\" class=\"dataframe\">\n",
       "  <thead>\n",
       "    <tr style=\"text-align: right;\">\n",
       "      <th></th>\n",
       "      <th>columns</th>\n",
       "      <th>rmse</th>\n",
       "      <th>mae</th>\n",
       "    </tr>\n",
       "  </thead>\n",
       "  <tbody>\n",
       "    <tr>\n",
       "      <th>0</th>\n",
       "      <td>autoregressive model</td>\n",
       "      <td>102.09</td>\n",
       "      <td>73.30</td>\n",
       "    </tr>\n",
       "    <tr>\n",
       "      <th>1</th>\n",
       "      <td>sarimax</td>\n",
       "      <td>107.57</td>\n",
       "      <td>91.65</td>\n",
       "    </tr>\n",
       "    <tr>\n",
       "      <th>2</th>\n",
       "      <td>prophet model</td>\n",
       "      <td>113.24</td>\n",
       "      <td>85.21</td>\n",
       "    </tr>\n",
       "  </tbody>\n",
       "</table>\n",
       "</div>"
      ],
      "text/plain": [
       "                columns    rmse    mae\n",
       "0  autoregressive model  102.09  73.30\n",
       "1               sarimax  107.57  91.65\n",
       "2         prophet model  113.24  85.21"
      ]
     },
     "execution_count": 210,
     "metadata": {},
     "output_type": "execute_result"
    }
   ],
   "source": [
    "pd.DataFrame({\n",
    "    \"columns\" : [\"autoregressive model\", \"sarimax\", \"prophet model\"], \n",
    "    \"rmse\" : [102.09,107.57, 113.24],\n",
    "    \"mae\": [73.3, 91.65, 85.21] \n",
    "})"
   ]
  },
  {
   "cell_type": "markdown",
   "metadata": {},
   "source": [
    "\n",
    " The Facebook Prophet model emerges as the preferred choice for predicting new home prices over the next decade, showcasing exceptional accuracy and adaptability. With a forecasted mean of $375,524, the model provides a central estimate for future home prices, while its predicted range of $298,698 to $445,309 underscores the dynamic nature of the housing market. This versatility, combined with the model's ability to handle complexities such as outliers and automatically detect seasonality, positions it as a robust tool for stakeholders and investors. However, prudent interpretation of these predictions is crucial, considering external factors and economic indicators that may influence the real estate landscape. In essence, the Facebook Prophet model serves as a valuable asset for strategic decision-making in navigating the complexities of the evolving new home market."
   ]
  },
  {
   "cell_type": "markdown",
   "metadata": {},
   "source": [
    "## RECOMMENDATION"
   ]
  },
  {
   "cell_type": "markdown",
   "metadata": {},
   "source": [
    "##### Invest in Real Estate \n",
    "A predicted ROI of 52.10% suggests a potentially lucrative investment opportunity in real estate. This positive return on investment indicates that, based on the model's projections, the investor stands to gain more than double the initial investment over the forecasted period. Such a robust ROI is indicative of the market's potential for appreciation and profit generation. However, it's essential for the investor to consider various factors, such as the level of risk tolerance, market volatility, and external economic conditions. Additionally, conducting a thorough analysis of the specific real estate market, including local trends, demand-supply dynamics, and regulatory factors, would provide a more comprehensive understanding before making investment decisions. While the predicted ROI is promising, a well-informed and cautious approach is advised for a successful and sustainable real estate investment strategy."
   ]
  },
  {
   "cell_type": "markdown",
   "metadata": {},
   "source": [
    "##### The best zipcodes to invest in are: \n",
    "* 15201, \n",
    "* 94043, \n",
    "* 11222, \n",
    "* 94301,\n",
    "* 11211   \n",
    "\n",
    "Based on the analysis, the recommended zip codes for real estate investment are 15201, 94043, 11222, 94301, and 11211.          \n",
    "These zip codes have shown favorable trends and promising returns according to the conducted analysis"
   ]
  },
  {
   "cell_type": "markdown",
   "metadata": {},
   "source": [
    "#### The best states to invest are\n",
    "* California\n",
    "* New York\n",
    "* Pennsylvania  \n",
    "\n",
    "\n",
    "Additionally, the recommended states for real estate investment are California, New York, and Pennsylvania. These states exhibit positive indicators and economic factors that suggest potential growth and stability in the real estate market. Investors should consider these regions for their diverse opportunities and resilience in the housing sector. However, it's crucial to conduct thorough due diligence, monitor market dynamics, and stay informed about local factors influencing each specific investment area."
   ]
  },
  {
   "cell_type": "markdown",
   "metadata": {},
   "source": [
    "### NEXT STEPS\n",
    "\n",
    "1. **Explore Advanced Models:**\n",
    "   - Consider implementing more advanced models such as Long Short-Term Memory (LSTM) networks to potentially enhance predictive performance.\n",
    "   - Evaluate the suitability of LSTM for time series forecasting, as it can capture complex patterns and dependencies over time.\n",
    "\n",
    "2. **Incorporate Additional Datasets:**\n",
    "   - Expand the dataset by incorporating more features beyond the current variables.\n",
    "   - Include datasets that encompass a broader range of economic indicators, demographic factors, or other relevant variables that could influence real estate prices.\n",
    "\n",
    "3. **Focus on Best Zip Codes:**\n",
    "   - Direct efforts towards modeling and analyzing real estate prices specifically for the identified best-performing zip codes (e.g., 15201, 94043, 11222, 94301, 11211).\n",
    "   - Tailor models to the unique characteristics and dynamics of these high-potential areas for more precise and targeted predictions.\n",
    ".\n",
    "\n",
    "4. **Iterative Model Refinement:**\n",
    "   - Adopt an iterative approach to model refinement, incorporating feedback and insights from ongoing analysis.\n",
    "   - Regularly update and adapt models based on the evolving real estate landscape and emerging trends.\n"
   ]
  },
  {
   "cell_type": "markdown",
   "metadata": {},
   "source": [
    "## Conclusion"
   ]
  },
  {
   "cell_type": "markdown",
   "metadata": {},
   "source": [
    "In conclusion, the analysis underscores the potential for informed real estate investment decisions by leveraging predictive models. The identified zip codes and states present enticing opportunities, while the outlined next steps, including the exploration of advanced models and incorporation of additional datasets, offer pathways for further refinement. It's essential to approach the market with a recognition of inherent uncertainties and conduct thorough risk assessments. The dynamic nature of the real estate landscape necessitates continuous monitoring, iterative model improvement, and a collaborative mindset, engaging with industry experts and data scientists. This comprehensive approach aims to empower investors with the insights needed to navigate the evolving real estate market and make strategic decisions that align with both current trends and future opportunities."
   ]
  }
 ],
 "metadata": {
  "kernelspec": {
   "display_name": "Python (learn-env)",
   "language": "python",
   "name": "learn-env"
  },
  "language_info": {
   "codemirror_mode": {
    "name": "ipython",
    "version": 3
   },
   "file_extension": ".py",
   "mimetype": "text/x-python",
   "name": "python",
   "nbconvert_exporter": "python",
   "pygments_lexer": "ipython3",
   "version": "3.8.5"
  }
 },
 "nbformat": 4,
 "nbformat_minor": 2
}
