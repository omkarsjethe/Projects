{
 "cells": [
  {
   "cell_type": "code",
   "execution_count": 5,
   "id": "02fc089f-73b1-4868-9c2a-89a3ee143372",
   "metadata": {},
   "outputs": [
    {
     "name": "stdout",
     "output_type": "stream",
     "text": [
      "   step      type    amount     nameOrig  oldbalanceOrg  newbalanceOrig  \\\n",
      "0     1   PAYMENT   9839.64  C1231006815       170136.0       160296.36   \n",
      "1     1   PAYMENT   1864.28  C1666544295        21249.0        19384.72   \n",
      "2     1  TRANSFER    181.00  C1305486145          181.0            0.00   \n",
      "3     1  CASH_OUT    181.00   C840083671          181.0            0.00   \n",
      "4     1   PAYMENT  11668.14  C2048537720        41554.0        29885.86   \n",
      "\n",
      "      nameDest  oldbalanceDest  newbalanceDest  isFraud  isFlaggedFraud  \n",
      "0  M1979787155             0.0             0.0        0               0  \n",
      "1  M2044282225             0.0             0.0        0               0  \n",
      "2   C553264065             0.0             0.0        1               0  \n",
      "3    C38997010         21182.0             0.0        1               0  \n",
      "4  M1230701703             0.0             0.0        0               0  \n",
      "<class 'pandas.core.frame.DataFrame'>\n",
      "RangeIndex: 6362620 entries, 0 to 6362619\n",
      "Data columns (total 11 columns):\n",
      " #   Column          Dtype  \n",
      "---  ------          -----  \n",
      " 0   step            int64  \n",
      " 1   type            object \n",
      " 2   amount          float64\n",
      " 3   nameOrig        object \n",
      " 4   oldbalanceOrg   float64\n",
      " 5   newbalanceOrig  float64\n",
      " 6   nameDest        object \n",
      " 7   oldbalanceDest  float64\n",
      " 8   newbalanceDest  float64\n",
      " 9   isFraud         int64  \n",
      " 10  isFlaggedFraud  int64  \n",
      "dtypes: float64(5), int64(3), object(3)\n",
      "memory usage: 534.0+ MB\n",
      "None\n"
     ]
    }
   ],
   "source": [
    "import pandas as pd\n",
    "\n",
    "# Replace 'transactions.csv' with your actual file name if different\n",
    "df = pd.read_csv('C:\\\\Users\\\\Owner\\\\Project\\\\transaction.csv')\n",
    "\n",
    "# Display the first 5 rows to check the data\n",
    "print(df.head())\n",
    "\n",
    "# Check data types and basic info\n",
    "print(df.info())\n"
   ]
  },
  {
   "cell_type": "code",
   "execution_count": 7,
   "id": "937cf9c9-689e-46f4-a985-176ca79f754c",
   "metadata": {},
   "outputs": [
    {
     "name": "stdout",
     "output_type": "stream",
     "text": [
      "Index(['step', 'type', 'amount', 'nameOrig', 'oldbalanceOrg', 'newbalanceOrig',\n",
      "       'nameDest', 'oldbalanceDest', 'newbalanceDest', 'isFraud',\n",
      "       'isFlaggedFraud'],\n",
      "      dtype='object')\n",
      "               step        amount  oldbalanceOrg  newbalanceOrig  \\\n",
      "count  6.362620e+06  6.362620e+06   6.362620e+06    6.362620e+06   \n",
      "mean   2.433972e+02  1.798619e+05   8.338831e+05    8.551137e+05   \n",
      "std    1.423320e+02  6.038582e+05   2.888243e+06    2.924049e+06   \n",
      "min    1.000000e+00  0.000000e+00   0.000000e+00    0.000000e+00   \n",
      "25%    1.560000e+02  1.338957e+04   0.000000e+00    0.000000e+00   \n",
      "50%    2.390000e+02  7.487194e+04   1.420800e+04    0.000000e+00   \n",
      "75%    3.350000e+02  2.087215e+05   1.073152e+05    1.442584e+05   \n",
      "max    7.430000e+02  9.244552e+07   5.958504e+07    4.958504e+07   \n",
      "\n",
      "       oldbalanceDest  newbalanceDest       isFraud  isFlaggedFraud  \n",
      "count    6.362620e+06    6.362620e+06  6.362620e+06    6.362620e+06  \n",
      "mean     1.100702e+06    1.224996e+06  1.290820e-03    2.514687e-06  \n",
      "std      3.399180e+06    3.674129e+06  3.590480e-02    1.585775e-03  \n",
      "min      0.000000e+00    0.000000e+00  0.000000e+00    0.000000e+00  \n",
      "25%      0.000000e+00    0.000000e+00  0.000000e+00    0.000000e+00  \n",
      "50%      1.327057e+05    2.146614e+05  0.000000e+00    0.000000e+00  \n",
      "75%      9.430367e+05    1.111909e+06  0.000000e+00    0.000000e+00  \n",
      "max      3.560159e+08    3.561793e+08  1.000000e+00    1.000000e+00  \n",
      "step              0\n",
      "type              0\n",
      "amount            0\n",
      "nameOrig          0\n",
      "oldbalanceOrg     0\n",
      "newbalanceOrig    0\n",
      "nameDest          0\n",
      "oldbalanceDest    0\n",
      "newbalanceDest    0\n",
      "isFraud           0\n",
      "isFlaggedFraud    0\n",
      "dtype: int64\n"
     ]
    }
   ],
   "source": [
    "print(df.columns)\n",
    "print(df.describe())\n",
    "print(df.isnull().sum())"
   ]
  },
  {
   "cell_type": "code",
   "execution_count": 13,
   "id": "122df11c-321d-4f20-9dff-74384538de34",
   "metadata": {},
   "outputs": [
    {
     "name": "stdout",
     "output_type": "stream",
     "text": [
      "<class 'pandas.core.frame.DataFrame'>\n"
     ]
    }
   ],
   "source": [
    "print(type(df))"
   ]
  },
  {
   "cell_type": "code",
   "execution_count": 15,
   "id": "afde18ad-69e5-4de2-bed2-89aed64195d7",
   "metadata": {},
   "outputs": [
    {
     "name": "stdout",
     "output_type": "stream",
     "text": [
      "Missing Values per Column:\n",
      " step              0\n",
      "type              0\n",
      "amount            0\n",
      "nameOrig          0\n",
      "oldbalanceOrg     0\n",
      "newbalanceOrig    0\n",
      "nameDest          0\n",
      "oldbalanceDest    0\n",
      "newbalanceDest    0\n",
      "isFraud           0\n",
      "isFlaggedFraud    0\n",
      "dtype: int64\n"
     ]
    }
   ],
   "source": [
    "# Count missing values in each column\n",
    "missing_report = df.isnull().sum()\n",
    "print(\"Missing Values per Column:\\n\", missing_report)\n"
   ]
  },
  {
   "cell_type": "code",
   "execution_count": 17,
   "id": "fa1a0126-94df-446e-ab66-49258a90b95f",
   "metadata": {},
   "outputs": [
    {
     "name": "stdout",
     "output_type": "stream",
     "text": [
      "Number of duplicate rows: 0\n"
     ]
    }
   ],
   "source": [
    "# Check for duplicate rows\n",
    "duplicates = df[df.duplicated()]\n",
    "print(f\"Number of duplicate rows: {duplicates.shape[0]}\")\n",
    "\n",
    "# Check for duplicate transaction IDs (if you have a 'transaction_id' column)\n",
    "if 'transaction_id' in df.columns:\n",
    "    duplicate_ids = df[df.duplicated(subset=['transaction_id'])]\n",
    "    print(f\"Number of duplicate transaction IDs: {duplicate_ids.shape[0]}\")\n"
   ]
  },
  {
   "cell_type": "code",
   "execution_count": 19,
   "id": "8d9417ee-453d-4a7c-bee9-e68382b154da",
   "metadata": {},
   "outputs": [
    {
     "name": "stdout",
     "output_type": "stream",
     "text": [
      "Number of negative amounts: 0\n"
     ]
    }
   ],
   "source": [
    "# Check for negative transaction amounts\n",
    "if 'amount' in df.columns:\n",
    "    negative_amounts = df[df['amount'] < 0]\n",
    "    print(f\"Number of negative amounts: {negative_amounts.shape[0]}\")\n",
    "\n",
    "# Check for future dates (if you have a 'date' column)\n",
    "import datetime\n",
    "if 'date' in df.columns:\n",
    "    df['date'] = pd.to_datetime(df['date'], errors='coerce')\n",
    "    future_dates = df[df['date'] > datetime.datetime.now()]\n",
    "    print(f\"Number of transactions with future dates: {future_dates.shape[0]}\")\n"
   ]
  },
  {
   "cell_type": "code",
   "execution_count": 23,
   "id": "0fb552d1-2226-4a41-98a5-ec13be2a242e",
   "metadata": {},
   "outputs": [
    {
     "name": "stdout",
     "output_type": "stream",
     "text": [
      "Number of anomalies detected: 61419\n"
     ]
    }
   ],
   "source": [
    "from sklearn.ensemble import IsolationForest\n",
    "\n",
    "if 'amount' in df.columns:\n",
    "    # Isolation Forest expects 2D input\n",
    "    amounts = df[['amount']].dropna()\n",
    "    clf = IsolationForest(contamination=0.01, random_state=42)\n",
    "    df.loc[amounts.index, 'anomaly'] = clf.fit_predict(amounts)\n",
    "    anomalies = df[df['anomaly'] == -1]\n",
    "    print(f\"Number of anomalies detected: {anomalies.shape[0]}\")\n"
   ]
  },
  {
   "cell_type": "code",
   "execution_count": 25,
   "id": "5095b210-d029-4c5a-af93-b333ce6df2e5",
   "metadata": {},
   "outputs": [
    {
     "name": "stdout",
     "output_type": "stream",
     "text": [
      "              Issue  Count\n",
      "0    Missing Values      0\n",
      "1    Duplicate Rows      0\n",
      "2  Negative Amounts      0\n",
      "3      Future Dates      0\n",
      "4         Anomalies  61419\n"
     ]
    }
   ],
   "source": [
    "summary = {\n",
    "    'Missing Values': missing_report.sum(),\n",
    "    'Duplicate Rows': duplicates.shape[0],\n",
    "    'Negative Amounts': negative_amounts.shape[0] if 'amount' in df.columns else 0,\n",
    "    'Future Dates': future_dates.shape[0] if 'date' in df.columns else 0,\n",
    "    'Anomalies': anomalies.shape[0] if 'amount' in df.columns else 0\n",
    "}\n",
    "summary_df = pd.DataFrame(list(summary.items()), columns=['Issue', 'Count'])\n",
    "print(summary_df)\n"
   ]
  },
  {
   "cell_type": "code",
   "execution_count": 27,
   "id": "2607d973-cfef-4726-aca2-218a6fbcd340",
   "metadata": {},
   "outputs": [],
   "source": [
    "summary_df.to_csv(\"C:\\\\Users\\\\Owner\\\\Project\\\\Financial data quality project\\\\report\\\\data_quality_summary.csv\", index=False)\n"
   ]
  },
  {
   "cell_type": "code",
   "execution_count": null,
   "id": "891566be-9ce5-416b-a49b-ab1fdf9d1cb4",
   "metadata": {},
   "outputs": [],
   "source": []
  }
 ],
 "metadata": {
  "kernelspec": {
   "display_name": "Python [conda env:base] *",
   "language": "python",
   "name": "conda-base-py"
  },
  "language_info": {
   "codemirror_mode": {
    "name": "ipython",
    "version": 3
   },
   "file_extension": ".py",
   "mimetype": "text/x-python",
   "name": "python",
   "nbconvert_exporter": "python",
   "pygments_lexer": "ipython3",
   "version": "3.12.7"
  }
 },
 "nbformat": 4,
 "nbformat_minor": 5
}
